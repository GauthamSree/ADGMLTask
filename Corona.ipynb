{
 "cells": [
  {
   "cell_type": "code",
   "execution_count": 1,
   "metadata": {},
   "outputs": [],
   "source": [
    "import numpy as np\n",
    "import pandas as pd\n",
    "import matplotlib.pyplot as plt\n",
    "import seaborn as sns\n",
    "import scipy.stats\n",
    "\n",
    "%matplotlib inline"
   ]
  },
  {
   "cell_type": "markdown",
   "metadata": {},
   "source": [
    "# Data Proprocessing"
   ]
  },
  {
   "cell_type": "code",
   "execution_count": 2,
   "metadata": {
    "scrolled": true
   },
   "outputs": [
    {
     "data": {
      "text/html": [
       "<div>\n",
       "<style scoped>\n",
       "    .dataframe tbody tr th:only-of-type {\n",
       "        vertical-align: middle;\n",
       "    }\n",
       "\n",
       "    .dataframe tbody tr th {\n",
       "        vertical-align: top;\n",
       "    }\n",
       "\n",
       "    .dataframe thead th {\n",
       "        text-align: right;\n",
       "    }\n",
       "</style>\n",
       "<table border=\"1\" class=\"dataframe\">\n",
       "  <thead>\n",
       "    <tr style=\"text-align: right;\">\n",
       "      <th></th>\n",
       "      <th>people_ID</th>\n",
       "      <th>Region</th>\n",
       "      <th>Gender</th>\n",
       "      <th>Designation</th>\n",
       "      <th>Name</th>\n",
       "      <th>Married</th>\n",
       "      <th>Children</th>\n",
       "      <th>Occupation</th>\n",
       "      <th>Mode_transport</th>\n",
       "      <th>cases/1M</th>\n",
       "      <th>...</th>\n",
       "      <th>HBB</th>\n",
       "      <th>d-dimer</th>\n",
       "      <th>Heart rate</th>\n",
       "      <th>HDL cholesterol</th>\n",
       "      <th>Charlson Index</th>\n",
       "      <th>Blood Glucose</th>\n",
       "      <th>Insurance</th>\n",
       "      <th>salary</th>\n",
       "      <th>FT/month</th>\n",
       "      <th>Infect_Prob</th>\n",
       "    </tr>\n",
       "  </thead>\n",
       "  <tbody>\n",
       "    <tr>\n",
       "      <th>0</th>\n",
       "      <td>1</td>\n",
       "      <td>Bhubaneshwar</td>\n",
       "      <td>Female</td>\n",
       "      <td>Mrs</td>\n",
       "      <td>mansi</td>\n",
       "      <td>YES</td>\n",
       "      <td>1.0</td>\n",
       "      <td>Farmer</td>\n",
       "      <td>Public</td>\n",
       "      <td>2</td>\n",
       "      <td>...</td>\n",
       "      <td>93.0</td>\n",
       "      <td>233.0</td>\n",
       "      <td>82.0</td>\n",
       "      <td>58.0</td>\n",
       "      <td>27</td>\n",
       "      <td>7</td>\n",
       "      <td>3600000.0</td>\n",
       "      <td>1300000</td>\n",
       "      <td>2.0</td>\n",
       "      <td>49.135010</td>\n",
       "    </tr>\n",
       "    <tr>\n",
       "      <th>1</th>\n",
       "      <td>2</td>\n",
       "      <td>Bhubaneshwar</td>\n",
       "      <td>Female</td>\n",
       "      <td>Mrs</td>\n",
       "      <td>riya masi</td>\n",
       "      <td>YES</td>\n",
       "      <td>2.0</td>\n",
       "      <td>Farmer</td>\n",
       "      <td>Walk</td>\n",
       "      <td>2</td>\n",
       "      <td>...</td>\n",
       "      <td>56.0</td>\n",
       "      <td>328.0</td>\n",
       "      <td>89.0</td>\n",
       "      <td>68.0</td>\n",
       "      <td>5</td>\n",
       "      <td>6</td>\n",
       "      <td>1600000.0</td>\n",
       "      <td>400000</td>\n",
       "      <td>1.0</td>\n",
       "      <td>51.147880</td>\n",
       "    </tr>\n",
       "    <tr>\n",
       "      <th>2</th>\n",
       "      <td>3</td>\n",
       "      <td>Bhubaneshwar</td>\n",
       "      <td>Female</td>\n",
       "      <td>Mrs</td>\n",
       "      <td>sunita</td>\n",
       "      <td>NO</td>\n",
       "      <td>1.0</td>\n",
       "      <td>Cleaner</td>\n",
       "      <td>Public</td>\n",
       "      <td>2</td>\n",
       "      <td>...</td>\n",
       "      <td>137.0</td>\n",
       "      <td>213.0</td>\n",
       "      <td>77.0</td>\n",
       "      <td>43.0</td>\n",
       "      <td>40</td>\n",
       "      <td>6</td>\n",
       "      <td>3400000.0</td>\n",
       "      <td>900000</td>\n",
       "      <td>1.0</td>\n",
       "      <td>73.224000</td>\n",
       "    </tr>\n",
       "    <tr>\n",
       "      <th>3</th>\n",
       "      <td>4</td>\n",
       "      <td>Bhubaneshwar</td>\n",
       "      <td>Female</td>\n",
       "      <td>Mrs</td>\n",
       "      <td>anjali @ babli</td>\n",
       "      <td>YES</td>\n",
       "      <td>1.0</td>\n",
       "      <td>Driver</td>\n",
       "      <td>Car</td>\n",
       "      <td>2</td>\n",
       "      <td>...</td>\n",
       "      <td>167.0</td>\n",
       "      <td>275.0</td>\n",
       "      <td>64.0</td>\n",
       "      <td>60.0</td>\n",
       "      <td>27</td>\n",
       "      <td>7</td>\n",
       "      <td>700000.0</td>\n",
       "      <td>2300000</td>\n",
       "      <td>1.0</td>\n",
       "      <td>48.779225</td>\n",
       "    </tr>\n",
       "    <tr>\n",
       "      <th>4</th>\n",
       "      <td>5</td>\n",
       "      <td>Bhubaneshwar</td>\n",
       "      <td>Female</td>\n",
       "      <td>Mrs</td>\n",
       "      <td>champa karketta</td>\n",
       "      <td>NO</td>\n",
       "      <td>2.0</td>\n",
       "      <td>Manufacturing</td>\n",
       "      <td>Car</td>\n",
       "      <td>2</td>\n",
       "      <td>...</td>\n",
       "      <td>153.0</td>\n",
       "      <td>331.0</td>\n",
       "      <td>71.0</td>\n",
       "      <td>64.0</td>\n",
       "      <td>32</td>\n",
       "      <td>7</td>\n",
       "      <td>3200000.0</td>\n",
       "      <td>1100000</td>\n",
       "      <td>1.0</td>\n",
       "      <td>87.868800</td>\n",
       "    </tr>\n",
       "  </tbody>\n",
       "</table>\n",
       "<p>5 rows × 28 columns</p>\n",
       "</div>"
      ],
      "text/plain": [
       "   people_ID        Region  Gender Designation             Name Married  \\\n",
       "0          1  Bhubaneshwar  Female         Mrs            mansi     YES   \n",
       "1          2  Bhubaneshwar  Female         Mrs        riya masi     YES   \n",
       "2          3  Bhubaneshwar  Female         Mrs           sunita      NO   \n",
       "3          4  Bhubaneshwar  Female         Mrs   anjali @ babli     YES   \n",
       "4          5  Bhubaneshwar  Female         Mrs  champa karketta      NO   \n",
       "\n",
       "   Children     Occupation Mode_transport  cases/1M  ...    HBB d-dimer  \\\n",
       "0       1.0         Farmer         Public         2  ...   93.0   233.0   \n",
       "1       2.0         Farmer           Walk         2  ...   56.0   328.0   \n",
       "2       1.0        Cleaner         Public         2  ...  137.0   213.0   \n",
       "3       1.0         Driver            Car         2  ...  167.0   275.0   \n",
       "4       2.0  Manufacturing            Car         2  ...  153.0   331.0   \n",
       "\n",
       "   Heart rate  HDL cholesterol Charlson Index Blood Glucose  Insurance  \\\n",
       "0        82.0             58.0             27             7  3600000.0   \n",
       "1        89.0             68.0              5             6  1600000.0   \n",
       "2        77.0             43.0             40             6  3400000.0   \n",
       "3        64.0             60.0             27             7   700000.0   \n",
       "4        71.0             64.0             32             7  3200000.0   \n",
       "\n",
       "    salary  FT/month  Infect_Prob  \n",
       "0  1300000       2.0    49.135010  \n",
       "1   400000       1.0    51.147880  \n",
       "2   900000       1.0    73.224000  \n",
       "3  2300000       1.0    48.779225  \n",
       "4  1100000       1.0    87.868800  \n",
       "\n",
       "[5 rows x 28 columns]"
      ]
     },
     "execution_count": 2,
     "metadata": {},
     "output_type": "execute_result"
    }
   ],
   "source": [
    "data = pd.read_csv(\"corona_dataset.csv\")\n",
    "data.head()"
   ]
  },
  {
   "cell_type": "code",
   "execution_count": 3,
   "metadata": {
    "scrolled": true
   },
   "outputs": [
    {
     "data": {
      "text/html": [
       "<div>\n",
       "<style scoped>\n",
       "    .dataframe tbody tr th:only-of-type {\n",
       "        vertical-align: middle;\n",
       "    }\n",
       "\n",
       "    .dataframe tbody tr th {\n",
       "        vertical-align: top;\n",
       "    }\n",
       "\n",
       "    .dataframe thead th {\n",
       "        text-align: right;\n",
       "    }\n",
       "</style>\n",
       "<table border=\"1\" class=\"dataframe\">\n",
       "  <thead>\n",
       "    <tr style=\"text-align: right;\">\n",
       "      <th></th>\n",
       "      <th>people_ID</th>\n",
       "      <th>Children</th>\n",
       "      <th>cases/1M</th>\n",
       "      <th>Deaths/1M</th>\n",
       "      <th>Age</th>\n",
       "      <th>Coma score</th>\n",
       "      <th>Diuresis</th>\n",
       "      <th>Platelets</th>\n",
       "      <th>HBB</th>\n",
       "      <th>d-dimer</th>\n",
       "      <th>Heart rate</th>\n",
       "      <th>HDL cholesterol</th>\n",
       "      <th>Charlson Index</th>\n",
       "      <th>Blood Glucose</th>\n",
       "      <th>Insurance</th>\n",
       "      <th>salary</th>\n",
       "      <th>FT/month</th>\n",
       "      <th>Infect_Prob</th>\n",
       "    </tr>\n",
       "  </thead>\n",
       "  <tbody>\n",
       "    <tr>\n",
       "      <th>count</th>\n",
       "      <td>10714.000000</td>\n",
       "      <td>10403.000000</td>\n",
       "      <td>10714.000000</td>\n",
       "      <td>10714.000000</td>\n",
       "      <td>10714.000000</td>\n",
       "      <td>10714.000000</td>\n",
       "      <td>9998.000000</td>\n",
       "      <td>9790.000000</td>\n",
       "      <td>10698.000000</td>\n",
       "      <td>9600.000000</td>\n",
       "      <td>9600.000000</td>\n",
       "      <td>10679.000000</td>\n",
       "      <td>10714.000000</td>\n",
       "      <td>10714.000000</td>\n",
       "      <td>9.624000e+03</td>\n",
       "      <td>1.071400e+04</td>\n",
       "      <td>9991.000000</td>\n",
       "      <td>10714.000000</td>\n",
       "    </tr>\n",
       "    <tr>\n",
       "      <th>mean</th>\n",
       "      <td>10084.893784</td>\n",
       "      <td>1.062770</td>\n",
       "      <td>3.285888</td>\n",
       "      <td>0.523241</td>\n",
       "      <td>42.083722</td>\n",
       "      <td>9.013067</td>\n",
       "      <td>278.806261</td>\n",
       "      <td>87.795812</td>\n",
       "      <td>116.170967</td>\n",
       "      <td>275.292292</td>\n",
       "      <td>74.847396</td>\n",
       "      <td>52.632737</td>\n",
       "      <td>20.028094</td>\n",
       "      <td>5.015027</td>\n",
       "      <td>2.644919e+06</td>\n",
       "      <td>1.304713e+06</td>\n",
       "      <td>1.004604</td>\n",
       "      <td>52.280680</td>\n",
       "    </tr>\n",
       "    <tr>\n",
       "      <th>std</th>\n",
       "      <td>7108.663645</td>\n",
       "      <td>0.818222</td>\n",
       "      <td>2.721274</td>\n",
       "      <td>0.854303</td>\n",
       "      <td>15.323397</td>\n",
       "      <td>3.714970</td>\n",
       "      <td>97.985526</td>\n",
       "      <td>41.851103</td>\n",
       "      <td>55.178811</td>\n",
       "      <td>43.669692</td>\n",
       "      <td>14.869104</td>\n",
       "      <td>10.434293</td>\n",
       "      <td>11.828445</td>\n",
       "      <td>1.399770</td>\n",
       "      <td>1.383346e+06</td>\n",
       "      <td>6.075947e+05</td>\n",
       "      <td>0.815257</td>\n",
       "      <td>10.674667</td>\n",
       "    </tr>\n",
       "    <tr>\n",
       "      <th>min</th>\n",
       "      <td>1.000000</td>\n",
       "      <td>0.000000</td>\n",
       "      <td>1.000000</td>\n",
       "      <td>0.000000</td>\n",
       "      <td>16.000000</td>\n",
       "      <td>3.000000</td>\n",
       "      <td>110.000000</td>\n",
       "      <td>15.000000</td>\n",
       "      <td>20.000000</td>\n",
       "      <td>200.000000</td>\n",
       "      <td>50.000000</td>\n",
       "      <td>35.000000</td>\n",
       "      <td>0.000000</td>\n",
       "      <td>3.000000</td>\n",
       "      <td>3.000000e+05</td>\n",
       "      <td>3.000000e+05</td>\n",
       "      <td>0.000000</td>\n",
       "      <td>29.289600</td>\n",
       "    </tr>\n",
       "    <tr>\n",
       "      <th>25%</th>\n",
       "      <td>2679.250000</td>\n",
       "      <td>0.000000</td>\n",
       "      <td>2.000000</td>\n",
       "      <td>0.000000</td>\n",
       "      <td>29.000000</td>\n",
       "      <td>6.000000</td>\n",
       "      <td>194.000000</td>\n",
       "      <td>52.000000</td>\n",
       "      <td>68.000000</td>\n",
       "      <td>237.000000</td>\n",
       "      <td>62.000000</td>\n",
       "      <td>44.000000</td>\n",
       "      <td>10.000000</td>\n",
       "      <td>4.000000</td>\n",
       "      <td>1.400000e+06</td>\n",
       "      <td>8.000000e+05</td>\n",
       "      <td>0.000000</td>\n",
       "      <td>47.277426</td>\n",
       "    </tr>\n",
       "    <tr>\n",
       "      <th>50%</th>\n",
       "      <td>10003.500000</td>\n",
       "      <td>1.000000</td>\n",
       "      <td>2.000000</td>\n",
       "      <td>0.000000</td>\n",
       "      <td>42.000000</td>\n",
       "      <td>9.000000</td>\n",
       "      <td>276.000000</td>\n",
       "      <td>88.000000</td>\n",
       "      <td>117.000000</td>\n",
       "      <td>276.000000</td>\n",
       "      <td>75.000000</td>\n",
       "      <td>53.000000</td>\n",
       "      <td>20.000000</td>\n",
       "      <td>5.000000</td>\n",
       "      <td>2.600000e+06</td>\n",
       "      <td>1.300000e+06</td>\n",
       "      <td>1.000000</td>\n",
       "      <td>49.008389</td>\n",
       "    </tr>\n",
       "    <tr>\n",
       "      <th>75%</th>\n",
       "      <td>15141.750000</td>\n",
       "      <td>2.000000</td>\n",
       "      <td>4.000000</td>\n",
       "      <td>1.000000</td>\n",
       "      <td>55.000000</td>\n",
       "      <td>12.000000</td>\n",
       "      <td>364.000000</td>\n",
       "      <td>124.000000</td>\n",
       "      <td>165.000000</td>\n",
       "      <td>313.000000</td>\n",
       "      <td>88.000000</td>\n",
       "      <td>62.000000</td>\n",
       "      <td>30.000000</td>\n",
       "      <td>6.000000</td>\n",
       "      <td>3.800000e+06</td>\n",
       "      <td>1.800000e+06</td>\n",
       "      <td>2.000000</td>\n",
       "      <td>52.762313</td>\n",
       "    </tr>\n",
       "    <tr>\n",
       "      <th>max</th>\n",
       "      <td>22695.000000</td>\n",
       "      <td>2.000000</td>\n",
       "      <td>8.000000</td>\n",
       "      <td>2.000000</td>\n",
       "      <td>68.000000</td>\n",
       "      <td>15.000000</td>\n",
       "      <td>450.000000</td>\n",
       "      <td>160.000000</td>\n",
       "      <td>210.000000</td>\n",
       "      <td>350.000000</td>\n",
       "      <td>100.000000</td>\n",
       "      <td>70.000000</td>\n",
       "      <td>40.000000</td>\n",
       "      <td>7.000000</td>\n",
       "      <td>5.000000e+06</td>\n",
       "      <td>2.300000e+06</td>\n",
       "      <td>2.000000</td>\n",
       "      <td>97.632000</td>\n",
       "    </tr>\n",
       "  </tbody>\n",
       "</table>\n",
       "</div>"
      ],
      "text/plain": [
       "          people_ID      Children      cases/1M     Deaths/1M           Age  \\\n",
       "count  10714.000000  10403.000000  10714.000000  10714.000000  10714.000000   \n",
       "mean   10084.893784      1.062770      3.285888      0.523241     42.083722   \n",
       "std     7108.663645      0.818222      2.721274      0.854303     15.323397   \n",
       "min        1.000000      0.000000      1.000000      0.000000     16.000000   \n",
       "25%     2679.250000      0.000000      2.000000      0.000000     29.000000   \n",
       "50%    10003.500000      1.000000      2.000000      0.000000     42.000000   \n",
       "75%    15141.750000      2.000000      4.000000      1.000000     55.000000   \n",
       "max    22695.000000      2.000000      8.000000      2.000000     68.000000   \n",
       "\n",
       "         Coma score     Diuresis    Platelets           HBB      d-dimer  \\\n",
       "count  10714.000000  9998.000000  9790.000000  10698.000000  9600.000000   \n",
       "mean       9.013067   278.806261    87.795812    116.170967   275.292292   \n",
       "std        3.714970    97.985526    41.851103     55.178811    43.669692   \n",
       "min        3.000000   110.000000    15.000000     20.000000   200.000000   \n",
       "25%        6.000000   194.000000    52.000000     68.000000   237.000000   \n",
       "50%        9.000000   276.000000    88.000000    117.000000   276.000000   \n",
       "75%       12.000000   364.000000   124.000000    165.000000   313.000000   \n",
       "max       15.000000   450.000000   160.000000    210.000000   350.000000   \n",
       "\n",
       "        Heart rate  HDL cholesterol  Charlson Index  Blood Glucose  \\\n",
       "count  9600.000000     10679.000000    10714.000000   10714.000000   \n",
       "mean     74.847396        52.632737       20.028094       5.015027   \n",
       "std      14.869104        10.434293       11.828445       1.399770   \n",
       "min      50.000000        35.000000        0.000000       3.000000   \n",
       "25%      62.000000        44.000000       10.000000       4.000000   \n",
       "50%      75.000000        53.000000       20.000000       5.000000   \n",
       "75%      88.000000        62.000000       30.000000       6.000000   \n",
       "max     100.000000        70.000000       40.000000       7.000000   \n",
       "\n",
       "          Insurance        salary     FT/month   Infect_Prob  \n",
       "count  9.624000e+03  1.071400e+04  9991.000000  10714.000000  \n",
       "mean   2.644919e+06  1.304713e+06     1.004604     52.280680  \n",
       "std    1.383346e+06  6.075947e+05     0.815257     10.674667  \n",
       "min    3.000000e+05  3.000000e+05     0.000000     29.289600  \n",
       "25%    1.400000e+06  8.000000e+05     0.000000     47.277426  \n",
       "50%    2.600000e+06  1.300000e+06     1.000000     49.008389  \n",
       "75%    3.800000e+06  1.800000e+06     2.000000     52.762313  \n",
       "max    5.000000e+06  2.300000e+06     2.000000     97.632000  "
      ]
     },
     "execution_count": 3,
     "metadata": {},
     "output_type": "execute_result"
    }
   ],
   "source": [
    "data.describe()"
   ]
  },
  {
   "cell_type": "code",
   "execution_count": 4,
   "metadata": {
    "scrolled": true
   },
   "outputs": [
    {
     "name": "stdout",
     "output_type": "stream",
     "text": [
      "<class 'pandas.core.frame.DataFrame'>\n",
      "RangeIndex: 10714 entries, 0 to 10713\n",
      "Data columns (total 28 columns):\n",
      " #   Column                  Non-Null Count  Dtype  \n",
      "---  ------                  --------------  -----  \n",
      " 0   people_ID               10714 non-null  int64  \n",
      " 1   Region                  10714 non-null  object \n",
      " 2   Gender                  10714 non-null  object \n",
      " 3   Designation             10714 non-null  object \n",
      " 4   Name                    10694 non-null  object \n",
      " 5   Married                 10714 non-null  object \n",
      " 6   Children                10403 non-null  float64\n",
      " 7   Occupation              9967 non-null   object \n",
      " 8   Mode_transport          10711 non-null  object \n",
      " 9   cases/1M                10714 non-null  int64  \n",
      " 10  Deaths/1M               10714 non-null  int64  \n",
      " 11  comorbidity             10488 non-null  object \n",
      " 12  Age                     10714 non-null  int64  \n",
      " 13  Coma score              10714 non-null  int64  \n",
      " 14  Pulmonary score         10714 non-null  object \n",
      " 15  cardiological pressure  10617 non-null  object \n",
      " 16  Diuresis                9998 non-null   float64\n",
      " 17  Platelets               9790 non-null   float64\n",
      " 18  HBB                     10698 non-null  float64\n",
      " 19  d-dimer                 9600 non-null   float64\n",
      " 20  Heart rate              9600 non-null   float64\n",
      " 21  HDL cholesterol         10679 non-null  float64\n",
      " 22  Charlson Index          10714 non-null  int64  \n",
      " 23  Blood Glucose           10714 non-null  int64  \n",
      " 24  Insurance               9624 non-null   float64\n",
      " 25  salary                  10714 non-null  int64  \n",
      " 26  FT/month                9991 non-null   float64\n",
      " 27  Infect_Prob             10714 non-null  float64\n",
      "dtypes: float64(10), int64(8), object(10)\n",
      "memory usage: 2.3+ MB\n"
     ]
    }
   ],
   "source": [
    "data.info()"
   ]
  },
  {
   "cell_type": "code",
   "execution_count": 5,
   "metadata": {},
   "outputs": [
    {
     "data": {
      "text/plain": [
       "people_ID                    0\n",
       "Region                       0\n",
       "Gender                       0\n",
       "Designation                  0\n",
       "Name                        20\n",
       "Married                      0\n",
       "Children                   311\n",
       "Occupation                 747\n",
       "Mode_transport               3\n",
       "cases/1M                     0\n",
       "Deaths/1M                    0\n",
       "comorbidity                226\n",
       "Age                          0\n",
       "Coma score                   0\n",
       "Pulmonary score              0\n",
       "cardiological pressure      97\n",
       "Diuresis                   716\n",
       "Platelets                  924\n",
       "HBB                         16\n",
       "d-dimer                   1114\n",
       "Heart rate                1114\n",
       "HDL cholesterol             35\n",
       "Charlson Index               0\n",
       "Blood Glucose                0\n",
       "Insurance                 1090\n",
       "salary                       0\n",
       "FT/month                   723\n",
       "Infect_Prob                  0\n",
       "dtype: int64"
      ]
     },
     "execution_count": 5,
     "metadata": {},
     "output_type": "execute_result"
    }
   ],
   "source": [
    "data.isna().sum()"
   ]
  },
  {
   "cell_type": "code",
   "execution_count": 6,
   "metadata": {},
   "outputs": [
    {
     "data": {
      "text/plain": [
       "<matplotlib.axes._subplots.AxesSubplot at 0x1103b5fd0>"
      ]
     },
     "execution_count": 6,
     "metadata": {},
     "output_type": "execute_result"
    },
    {
     "data": {
      "image/png": "[encoded data removed]",
      "text/plain": [
       "<Figure size 432x288 with 2 Axes>"
      ]
     },
     "metadata": {
      "needs_background": "light"
     },
     "output_type": "display_data"
    }
   ],
   "source": [
    "sns.heatmap(data.isnull(), yticklabels= False)"
   ]
  },
  {
   "cell_type": "code",
   "execution_count": 7,
   "metadata": {
    "scrolled": true
   },
   "outputs": [],
   "source": [
    "# Filling the missing values of all numerical features with repective mean\n",
    "data1 = data.fillna(data.mean())"
   ]
  },
  {
   "cell_type": "code",
   "execution_count": 8,
   "metadata": {
    "scrolled": false
   },
   "outputs": [
    {
     "data": {
      "text/plain": [
       "people_ID                   0\n",
       "Region                      0\n",
       "Gender                      0\n",
       "Designation                 0\n",
       "Name                       20\n",
       "Married                     0\n",
       "Children                    0\n",
       "Occupation                747\n",
       "Mode_transport              3\n",
       "cases/1M                    0\n",
       "Deaths/1M                   0\n",
       "comorbidity               226\n",
       "Age                         0\n",
       "Coma score                  0\n",
       "Pulmonary score             0\n",
       "cardiological pressure     97\n",
       "Diuresis                    0\n",
       "Platelets                   0\n",
       "HBB                         0\n",
       "d-dimer                     0\n",
       "Heart rate                  0\n",
       "HDL cholesterol             0\n",
       "Charlson Index              0\n",
       "Blood Glucose               0\n",
       "Insurance                   0\n",
       "salary                      0\n",
       "FT/month                    0\n",
       "Infect_Prob                 0\n",
       "dtype: int64"
      ]
     },
     "execution_count": 8,
     "metadata": {},
     "output_type": "execute_result"
    }
   ],
   "source": [
    "data1.isna().sum()"
   ]
  },
  {
   "cell_type": "code",
   "execution_count": 9,
   "metadata": {
    "scrolled": true
   },
   "outputs": [
    {
     "data": {
      "text/plain": [
       "Normal      2681\n",
       "Stage-01    2657\n",
       "Elevated    2641\n",
       "Stage-02    2638\n",
       "Name: cardiological pressure, dtype: int64"
      ]
     },
     "execution_count": 9,
     "metadata": {},
     "output_type": "execute_result"
    }
   ],
   "source": [
    "data1['cardiological pressure'].value_counts()"
   ]
  },
  {
   "cell_type": "code",
   "execution_count": 10,
   "metadata": {},
   "outputs": [
    {
     "data": {
      "text/plain": [
       "Gender  cardiological pressure\n",
       "Female  Elevated                  1339\n",
       "        Normal                    1355\n",
       "        Stage-01                  1374\n",
       "        Stage-02                  1309\n",
       "Male    Elevated                  1302\n",
       "        Normal                    1326\n",
       "        Stage-01                  1283\n",
       "        Stage-02                  1329\n",
       "dtype: int64"
      ]
     },
     "execution_count": 10,
     "metadata": {},
     "output_type": "execute_result"
    }
   ],
   "source": [
    "grouped = data1.groupby(['Gender', 'cardiological pressure'])\n",
    "grouped.size()"
   ]
  },
  {
   "cell_type": "code",
   "execution_count": 11,
   "metadata": {},
   "outputs": [
    {
     "data": {
      "text/plain": [
       "<matplotlib.axes._subplots.AxesSubplot at 0x134fd37c0>"
      ]
     },
     "execution_count": 11,
     "metadata": {},
     "output_type": "execute_result"
    },
    {
     "data": {
      "image/png": "[encoded data removed]",
      "text/plain": [
       "<Figure size 1080x576 with 3 Axes>"
      ]
     },
     "metadata": {
      "needs_background": "light"
     },
     "output_type": "display_data"
    }
   ],
   "source": [
    "plt.figure(figsize=(15,8))\n",
    "plt.subplot(2,2,1)\n",
    "sns.boxplot(x='cardiological pressure', y = 'HDL cholesterol', data = data1)\n",
    "plt.subplot(2,2,2)\n",
    "sns.boxplot(x='cardiological pressure', y = 'Heart rate', data = data1)\n",
    "plt.subplot(2,2,3)\n",
    "sns.boxplot(x='cardiological pressure', y = 'Platelets', data = data1)"
   ]
  },
  {
   "cell_type": "markdown",
   "metadata": {},
   "source": [
    "### Oberservation\n",
    "Since there is no related features to be used for imputing values, we are are imputing the missing values in `cardiological pressure` by giving equal probability for the class within cardiological pressure."
   ]
  },
  {
   "cell_type": "code",
   "execution_count": 12,
   "metadata": {},
   "outputs": [],
   "source": [
    "def fillCardioVal(col):\n",
    "    if pd.isnull(col):\n",
    "       return np.random.choice(data1['cardiological pressure'].dropna().unique())\n",
    "    else:\n",
    "        return col\n",
    "\n",
    "data1['cardiological pressure'] = data1['cardiological pressure'].apply(fillCardioVal)"
   ]
  },
  {
   "cell_type": "code",
   "execution_count": 13,
   "metadata": {},
   "outputs": [
    {
     "data": {
      "text/plain": [
       "Normal      2702\n",
       "Stage-01    2676\n",
       "Elevated    2672\n",
       "Stage-02    2664\n",
       "Name: cardiological pressure, dtype: int64"
      ]
     },
     "execution_count": 13,
     "metadata": {},
     "output_type": "execute_result"
    }
   ],
   "source": [
    "data1['cardiological pressure'].value_counts()"
   ]
  },
  {
   "cell_type": "code",
   "execution_count": 14,
   "metadata": {},
   "outputs": [
    {
     "data": {
      "text/plain": [
       "people_ID                   0\n",
       "Region                      0\n",
       "Gender                      0\n",
       "Designation                 0\n",
       "Name                       20\n",
       "Married                     0\n",
       "Children                    0\n",
       "Occupation                747\n",
       "Mode_transport              3\n",
       "cases/1M                    0\n",
       "Deaths/1M                   0\n",
       "comorbidity               226\n",
       "Age                         0\n",
       "Coma score                  0\n",
       "Pulmonary score             0\n",
       "cardiological pressure      0\n",
       "Diuresis                    0\n",
       "Platelets                   0\n",
       "HBB                         0\n",
       "d-dimer                     0\n",
       "Heart rate                  0\n",
       "HDL cholesterol             0\n",
       "Charlson Index              0\n",
       "Blood Glucose               0\n",
       "Insurance                   0\n",
       "salary                      0\n",
       "FT/month                    0\n",
       "Infect_Prob                 0\n",
       "dtype: int64"
      ]
     },
     "execution_count": 14,
     "metadata": {},
     "output_type": "execute_result"
    }
   ],
   "source": [
    "data1.isna().sum()"
   ]
  },
  {
   "cell_type": "code",
   "execution_count": 15,
   "metadata": {},
   "outputs": [
    {
     "data": {
      "text/plain": [
       "<matplotlib.axes._subplots.AxesSubplot at 0x134f37c70>"
      ]
     },
     "execution_count": 15,
     "metadata": {},
     "output_type": "execute_result"
    },
    {
     "data": {
      "image/png": "[encoded data removed]",
      "text/plain": [
       "<Figure size 432x288 with 2 Axes>"
      ]
     },
     "metadata": {
      "needs_background": "light"
     },
     "output_type": "display_data"
    }
   ],
   "source": [
    "sns.heatmap(data1.isnull(), yticklabels= False, cmap = 'viridis')"
   ]
  },
  {
   "cell_type": "code",
   "execution_count": 16,
   "metadata": {},
   "outputs": [
    {
     "data": {
      "text/plain": [
       "Hypertension              2642\n",
       "None                      2637\n",
       "Diabetes                  2614\n",
       "Coronary Heart Disease    2595\n",
       "Name: comorbidity, dtype: int64"
      ]
     },
     "execution_count": 16,
     "metadata": {},
     "output_type": "execute_result"
    }
   ],
   "source": [
    "data1['comorbidity'].value_counts()"
   ]
  },
  {
   "cell_type": "code",
   "execution_count": 17,
   "metadata": {},
   "outputs": [
    {
     "data": {
      "text/plain": [
       "Gender  comorbidity           \n",
       "Female  Coronary Heart Disease    1302\n",
       "        Diabetes                  1290\n",
       "        Hypertension              1362\n",
       "        None                      1353\n",
       "Male    Coronary Heart Disease    1293\n",
       "        Diabetes                  1324\n",
       "        Hypertension              1280\n",
       "        None                      1284\n",
       "dtype: int64"
      ]
     },
     "execution_count": 17,
     "metadata": {},
     "output_type": "execute_result"
    }
   ],
   "source": [
    "grouped = data1.groupby(['Gender', 'comorbidity'])\n",
    "grouped.size()"
   ]
  },
  {
   "cell_type": "code",
   "execution_count": 18,
   "metadata": {
    "scrolled": true
   },
   "outputs": [
    {
     "data": {
      "text/plain": [
       "<matplotlib.axes._subplots.AxesSubplot at 0x133a57f40>"
      ]
     },
     "execution_count": 18,
     "metadata": {},
     "output_type": "execute_result"
    },
    {
     "data": {
      "image/png": "[encoded data removed]",
      "text/plain": [
       "<Figure size 1008x360 with 2 Axes>"
      ]
     },
     "metadata": {
      "needs_background": "light"
     },
     "output_type": "display_data"
    }
   ],
   "source": [
    "plt.figure(figsize = (14,5))\n",
    "plt.subplot(1,2,1)\n",
    "sns.boxplot(x='comorbidity', y = 'Blood Glucose', data = data1)\n",
    "plt.subplot(1,2,2)\n",
    "sns.boxplot(x='comorbidity', y = 'Heart rate', data = data1)"
   ]
  },
  {
   "cell_type": "markdown",
   "metadata": {},
   "source": [
    "### Oberservation\n",
    "Since there is no related features to be used for imputing values, we are are imputing the missing values in `Comorbidity` by giving equal probability for the class within comorbidity."
   ]
  },
  {
   "cell_type": "code",
   "execution_count": 19,
   "metadata": {},
   "outputs": [],
   "source": [
    "def fillComorbVal(col):\n",
    "    if pd.isnull(col):\n",
    "       return np.random.choice(data1['comorbidity'].dropna().unique())\n",
    "    else:\n",
    "        return col\n",
    "\n",
    "data1['comorbidity'] = data1['comorbidity'].apply(fillComorbVal)"
   ]
  },
  {
   "cell_type": "code",
   "execution_count": 20,
   "metadata": {},
   "outputs": [
    {
     "data": {
      "text/plain": [
       "Hypertension              2698\n",
       "None                      2696\n",
       "Diabetes                  2677\n",
       "Coronary Heart Disease    2643\n",
       "Name: comorbidity, dtype: int64"
      ]
     },
     "execution_count": 20,
     "metadata": {},
     "output_type": "execute_result"
    }
   ],
   "source": [
    "data1['comorbidity'].value_counts()"
   ]
  },
  {
   "cell_type": "code",
   "execution_count": 21,
   "metadata": {},
   "outputs": [
    {
     "data": {
      "text/plain": [
       "people_ID                   0\n",
       "Region                      0\n",
       "Gender                      0\n",
       "Designation                 0\n",
       "Name                       20\n",
       "Married                     0\n",
       "Children                    0\n",
       "Occupation                747\n",
       "Mode_transport              3\n",
       "cases/1M                    0\n",
       "Deaths/1M                   0\n",
       "comorbidity                 0\n",
       "Age                         0\n",
       "Coma score                  0\n",
       "Pulmonary score             0\n",
       "cardiological pressure      0\n",
       "Diuresis                    0\n",
       "Platelets                   0\n",
       "HBB                         0\n",
       "d-dimer                     0\n",
       "Heart rate                  0\n",
       "HDL cholesterol             0\n",
       "Charlson Index              0\n",
       "Blood Glucose               0\n",
       "Insurance                   0\n",
       "salary                      0\n",
       "FT/month                    0\n",
       "Infect_Prob                 0\n",
       "dtype: int64"
      ]
     },
     "execution_count": 21,
     "metadata": {},
     "output_type": "execute_result"
    }
   ],
   "source": [
    "data1.isna().sum()"
   ]
  },
  {
   "cell_type": "code",
   "execution_count": 22,
   "metadata": {},
   "outputs": [
    {
     "data": {
      "text/plain": [
       "Public    3588\n",
       "Walk      3568\n",
       "Car       3555\n",
       "Name: Mode_transport, dtype: int64"
      ]
     },
     "execution_count": 22,
     "metadata": {},
     "output_type": "execute_result"
    }
   ],
   "source": [
    "data1['Mode_transport'].value_counts()"
   ]
  },
  {
   "cell_type": "code",
   "execution_count": 23,
   "metadata": {},
   "outputs": [
    {
     "data": {
      "text/plain": [
       "<matplotlib.axes._subplots.AxesSubplot at 0x1343d6940>"
      ]
     },
     "execution_count": 23,
     "metadata": {},
     "output_type": "execute_result"
    },
    {
     "data": {
      "image/png": "[encoded data removed]",
      "text/plain": [
       "<Figure size 432x288 with 1 Axes>"
      ]
     },
     "metadata": {
      "needs_background": "light"
     },
     "output_type": "display_data"
    }
   ],
   "source": [
    "sns.boxplot(x='Mode_transport', y = 'Age', data = data1)"
   ]
  },
  {
   "cell_type": "code",
   "execution_count": 24,
   "metadata": {},
   "outputs": [],
   "source": [
    "# Since there is only 3 missing values, we impute by giving more frequent (mode) category\n",
    "data1['Mode_transport'].fillna(data1['Mode_transport'].mode()[0], inplace = True)"
   ]
  },
  {
   "cell_type": "code",
   "execution_count": 25,
   "metadata": {
    "scrolled": true
   },
   "outputs": [
    {
     "data": {
      "text/plain": [
       "people_ID                   0\n",
       "Region                      0\n",
       "Gender                      0\n",
       "Designation                 0\n",
       "Name                       20\n",
       "Married                     0\n",
       "Children                    0\n",
       "Occupation                747\n",
       "Mode_transport              0\n",
       "cases/1M                    0\n",
       "Deaths/1M                   0\n",
       "comorbidity                 0\n",
       "Age                         0\n",
       "Coma score                  0\n",
       "Pulmonary score             0\n",
       "cardiological pressure      0\n",
       "Diuresis                    0\n",
       "Platelets                   0\n",
       "HBB                         0\n",
       "d-dimer                     0\n",
       "Heart rate                  0\n",
       "HDL cholesterol             0\n",
       "Charlson Index              0\n",
       "Blood Glucose               0\n",
       "Insurance                   0\n",
       "salary                      0\n",
       "FT/month                    0\n",
       "Infect_Prob                 0\n",
       "dtype: int64"
      ]
     },
     "execution_count": 25,
     "metadata": {},
     "output_type": "execute_result"
    }
   ],
   "source": [
    "data1.isna().sum()"
   ]
  },
  {
   "cell_type": "code",
   "execution_count": 26,
   "metadata": {},
   "outputs": [
    {
     "data": {
      "text/plain": [
       "<matplotlib.axes._subplots.AxesSubplot at 0x134075190>"
      ]
     },
     "execution_count": 26,
     "metadata": {},
     "output_type": "execute_result"
    },
    {
     "data": {
      "image/png": "[encoded data removed]",
      "text/plain": [
       "<Figure size 432x288 with 2 Axes>"
      ]
     },
     "metadata": {
      "needs_background": "light"
     },
     "output_type": "display_data"
    }
   ],
   "source": [
    "sns.heatmap(data1.isnull(), yticklabels= False)"
   ]
  },
  {
   "cell_type": "markdown",
   "metadata": {},
   "source": [
    "### Correlation b/w `Diuresis` and `Infection Probability`"
   ]
  },
  {
   "cell_type": "code",
   "execution_count": 27,
   "metadata": {},
   "outputs": [
    {
     "data": {
      "text/plain": [
       "<matplotlib.axes._subplots.AxesSubplot at 0x1341d45e0>"
      ]
     },
     "execution_count": 27,
     "metadata": {},
     "output_type": "execute_result"
    },
    {
     "data": {
      "image/png": "[encoded data removed]",
      "text/plain": [
       "<Figure size 1008x360 with 3 Axes>"
      ]
     },
     "metadata": {
      "needs_background": "light"
     },
     "output_type": "display_data"
    }
   ],
   "source": [
    "plt.figure(figsize=(14,5))\n",
    "plt.subplot(1,2,1)\n",
    "sns.heatmap(data1[['Diuresis','Infect_Prob']].corr(), annot = True)\n",
    "plt.subplot(1,2,2)\n",
    "sns.regplot(x = 'Diuresis', y = 'Infect_Prob', data = data1)"
   ]
  },
  {
   "cell_type": "code",
   "execution_count": 28,
   "metadata": {},
   "outputs": [
    {
     "data": {
      "text/plain": [
       "(0.00685054702256349, 0.4783150973231871)"
      ]
     },
     "execution_count": 28,
     "metadata": {},
     "output_type": "execute_result"
    }
   ],
   "source": [
    "scipy.stats.pearsonr(data1['Diuresis'], data1['Infect_Prob'])"
   ]
  },
  {
   "cell_type": "markdown",
   "metadata": {},
   "source": [
    "### Observation\n",
    "The correlation coefficient is 0.00685 which is not significantly higher than zero (P value = 0.4783).\n",
    "Hence it is concluded that there is no correation between `Diuresis` and `Infection Probability`"
   ]
  },
  {
   "cell_type": "code",
   "execution_count": 29,
   "metadata": {},
   "outputs": [
    {
     "data": {
      "text/plain": [
       "<matplotlib.axes._subplots.AxesSubplot at 0x13822b5b0>"
      ]
     },
     "execution_count": 29,
     "metadata": {},
     "output_type": "execute_result"
    },
    {
     "data": {
      "image/png": "[encoded data removed]",
      "text/plain": [
       "<Figure size 720x648 with 1 Axes>"
      ]
     },
     "metadata": {
      "needs_background": "light"
     },
     "output_type": "display_data"
    }
   ],
   "source": [
    "plt.figure(figsize=(10,9))\n",
    "sns.set_style(\"ticks\")\n",
    "sns.distplot(data1['Infect_Prob'])"
   ]
  },
  {
   "cell_type": "markdown",
   "metadata": {},
   "source": [
    "Most of the data is having around 50% chance of infection "
   ]
  },
  {
   "cell_type": "code",
   "execution_count": 30,
   "metadata": {},
   "outputs": [
    {
     "data": {
      "text/plain": [
       "<matplotlib.axes._subplots.AxesSubplot at 0x1343b36d0>"
      ]
     },
     "execution_count": 30,
     "metadata": {},
     "output_type": "execute_result"
    },
    {
     "data": {
      "image/png": "[encoded data removed]",
      "text/plain": [
       "<Figure size 1080x720 with 2 Axes>"
      ]
     },
     "metadata": {},
     "output_type": "display_data"
    }
   ],
   "source": [
    "plt.figure(figsize=(15, 10))\n",
    "sns.heatmap(data1.corr(), annot = True)"
   ]
  },
  {
   "cell_type": "code",
   "execution_count": 31,
   "metadata": {},
   "outputs": [
    {
     "data": {
      "text/plain": [
       "Legal            1174\n",
       "Sales            1131\n",
       "Manufacturing    1120\n",
       "Researcher       1115\n",
       "Farmer           1113\n",
       "Cleaner          1111\n",
       "Clerk            1078\n",
       "Driver           1072\n",
       "Business         1053\n",
       "Name: Occupation, dtype: int64"
      ]
     },
     "execution_count": 31,
     "metadata": {},
     "output_type": "execute_result"
    }
   ],
   "source": [
    "data1['Occupation'].value_counts()"
   ]
  },
  {
   "cell_type": "code",
   "execution_count": 32,
   "metadata": {
    "scrolled": true
   },
   "outputs": [
    {
     "data": {
      "text/plain": [
       "<seaborn.axisgrid.FacetGrid at 0x139511b20>"
      ]
     },
     "execution_count": 32,
     "metadata": {},
     "output_type": "execute_result"
    },
    {
     "data": {
      "text/plain": [
       "<Figure size 10800x8640 with 0 Axes>"
      ]
     },
     "metadata": {},
     "output_type": "display_data"
    },
    {
     "data": {
      "image/png": "[encoded data removed]",
      "text/plain": [
       "<Figure size 1944x216 with 9 Axes>"
      ]
     },
     "metadata": {},
     "output_type": "display_data"
    }
   ],
   "source": [
    "plt.figure(figsize=(150,120))\n",
    "sns.FacetGrid(data1, col = 'Occupation').map(sns.distplot, 'Infect_Prob')"
   ]
  },
  {
   "cell_type": "code",
   "execution_count": 33,
   "metadata": {
    "scrolled": false
   },
   "outputs": [
    {
     "data": {
      "text/plain": [
       "(0.0, 70.0)"
      ]
     },
     "execution_count": 33,
     "metadata": {},
     "output_type": "execute_result"
    },
    {
     "data": {
      "image/png": "[encoded data removed]",
      "text/plain": [
       "<Figure size 720x432 with 1 Axes>"
      ]
     },
     "metadata": {},
     "output_type": "display_data"
    }
   ],
   "source": [
    "'''\n",
    "\n",
    "No of cases for different occupation.\n",
    "Cases is defined as Infection probabilty greater than 0.75(75%).\n",
    "\n",
    "'''\n",
    "plt.figure(figsize=(10,6))\n",
    "sns.set_style('darkgrid')\n",
    "sns.countplot(x = 'Occupation', data = data1[data1['Infect_Prob'] > 75], palette='Set1')\n",
    "plt.ylim(0,70)"
   ]
  },
  {
   "cell_type": "markdown",
   "metadata": {},
   "source": [
    "### Observation\n",
    "The most reported(infected) cases are people who work as Drivers."
   ]
  },
  {
   "cell_type": "code",
   "execution_count": 34,
   "metadata": {},
   "outputs": [
    {
     "data": {
      "text/html": [
       "<div>\n",
       "<style scoped>\n",
       "    .dataframe tbody tr th:only-of-type {\n",
       "        vertical-align: middle;\n",
       "    }\n",
       "\n",
       "    .dataframe tbody tr th {\n",
       "        vertical-align: top;\n",
       "    }\n",
       "\n",
       "    .dataframe thead th {\n",
       "        text-align: right;\n",
       "    }\n",
       "</style>\n",
       "<table border=\"1\" class=\"dataframe\">\n",
       "  <thead>\n",
       "    <tr style=\"text-align: right;\">\n",
       "      <th></th>\n",
       "      <th>Region</th>\n",
       "      <th>Gender</th>\n",
       "      <th>Married</th>\n",
       "      <th>Children</th>\n",
       "      <th>Mode_transport</th>\n",
       "      <th>cases/1M</th>\n",
       "      <th>Deaths/1M</th>\n",
       "      <th>comorbidity</th>\n",
       "      <th>Age</th>\n",
       "      <th>Coma score</th>\n",
       "      <th>...</th>\n",
       "      <th>HBB</th>\n",
       "      <th>d-dimer</th>\n",
       "      <th>Heart rate</th>\n",
       "      <th>HDL cholesterol</th>\n",
       "      <th>Charlson Index</th>\n",
       "      <th>Blood Glucose</th>\n",
       "      <th>Insurance</th>\n",
       "      <th>salary</th>\n",
       "      <th>FT/month</th>\n",
       "      <th>Infect_Prob</th>\n",
       "    </tr>\n",
       "  </thead>\n",
       "  <tbody>\n",
       "    <tr>\n",
       "      <th>0</th>\n",
       "      <td>Bhubaneshwar</td>\n",
       "      <td>Female</td>\n",
       "      <td>YES</td>\n",
       "      <td>1.0</td>\n",
       "      <td>Public</td>\n",
       "      <td>2</td>\n",
       "      <td>0</td>\n",
       "      <td>Hypertension</td>\n",
       "      <td>68</td>\n",
       "      <td>8</td>\n",
       "      <td>...</td>\n",
       "      <td>93.0</td>\n",
       "      <td>233.0</td>\n",
       "      <td>82.0</td>\n",
       "      <td>58.0</td>\n",
       "      <td>27</td>\n",
       "      <td>7</td>\n",
       "      <td>3600000.0</td>\n",
       "      <td>1300000</td>\n",
       "      <td>2.0</td>\n",
       "      <td>49.135010</td>\n",
       "    </tr>\n",
       "    <tr>\n",
       "      <th>1</th>\n",
       "      <td>Bhubaneshwar</td>\n",
       "      <td>Female</td>\n",
       "      <td>YES</td>\n",
       "      <td>2.0</td>\n",
       "      <td>Walk</td>\n",
       "      <td>2</td>\n",
       "      <td>0</td>\n",
       "      <td>Diabetes</td>\n",
       "      <td>64</td>\n",
       "      <td>15</td>\n",
       "      <td>...</td>\n",
       "      <td>56.0</td>\n",
       "      <td>328.0</td>\n",
       "      <td>89.0</td>\n",
       "      <td>68.0</td>\n",
       "      <td>5</td>\n",
       "      <td>6</td>\n",
       "      <td>1600000.0</td>\n",
       "      <td>400000</td>\n",
       "      <td>1.0</td>\n",
       "      <td>51.147880</td>\n",
       "    </tr>\n",
       "    <tr>\n",
       "      <th>2</th>\n",
       "      <td>Bhubaneshwar</td>\n",
       "      <td>Female</td>\n",
       "      <td>NO</td>\n",
       "      <td>1.0</td>\n",
       "      <td>Public</td>\n",
       "      <td>2</td>\n",
       "      <td>0</td>\n",
       "      <td>None</td>\n",
       "      <td>19</td>\n",
       "      <td>13</td>\n",
       "      <td>...</td>\n",
       "      <td>137.0</td>\n",
       "      <td>213.0</td>\n",
       "      <td>77.0</td>\n",
       "      <td>43.0</td>\n",
       "      <td>40</td>\n",
       "      <td>6</td>\n",
       "      <td>3400000.0</td>\n",
       "      <td>900000</td>\n",
       "      <td>1.0</td>\n",
       "      <td>73.224000</td>\n",
       "    </tr>\n",
       "    <tr>\n",
       "      <th>3</th>\n",
       "      <td>Bhubaneshwar</td>\n",
       "      <td>Female</td>\n",
       "      <td>YES</td>\n",
       "      <td>1.0</td>\n",
       "      <td>Car</td>\n",
       "      <td>2</td>\n",
       "      <td>0</td>\n",
       "      <td>Coronary Heart Disease</td>\n",
       "      <td>33</td>\n",
       "      <td>9</td>\n",
       "      <td>...</td>\n",
       "      <td>167.0</td>\n",
       "      <td>275.0</td>\n",
       "      <td>64.0</td>\n",
       "      <td>60.0</td>\n",
       "      <td>27</td>\n",
       "      <td>7</td>\n",
       "      <td>700000.0</td>\n",
       "      <td>2300000</td>\n",
       "      <td>1.0</td>\n",
       "      <td>48.779225</td>\n",
       "    </tr>\n",
       "    <tr>\n",
       "      <th>4</th>\n",
       "      <td>Bhubaneshwar</td>\n",
       "      <td>Female</td>\n",
       "      <td>NO</td>\n",
       "      <td>2.0</td>\n",
       "      <td>Car</td>\n",
       "      <td>2</td>\n",
       "      <td>0</td>\n",
       "      <td>Diabetes</td>\n",
       "      <td>23</td>\n",
       "      <td>7</td>\n",
       "      <td>...</td>\n",
       "      <td>153.0</td>\n",
       "      <td>331.0</td>\n",
       "      <td>71.0</td>\n",
       "      <td>64.0</td>\n",
       "      <td>32</td>\n",
       "      <td>7</td>\n",
       "      <td>3200000.0</td>\n",
       "      <td>1100000</td>\n",
       "      <td>1.0</td>\n",
       "      <td>87.868800</td>\n",
       "    </tr>\n",
       "  </tbody>\n",
       "</table>\n",
       "<p>5 rows × 24 columns</p>\n",
       "</div>"
      ],
      "text/plain": [
       "         Region  Gender Married  Children Mode_transport  cases/1M  Deaths/1M  \\\n",
       "0  Bhubaneshwar  Female     YES       1.0         Public         2          0   \n",
       "1  Bhubaneshwar  Female     YES       2.0           Walk         2          0   \n",
       "2  Bhubaneshwar  Female      NO       1.0         Public         2          0   \n",
       "3  Bhubaneshwar  Female     YES       1.0            Car         2          0   \n",
       "4  Bhubaneshwar  Female      NO       2.0            Car         2          0   \n",
       "\n",
       "              comorbidity  Age  Coma score  ...    HBB d-dimer  Heart rate  \\\n",
       "0            Hypertension   68           8  ...   93.0   233.0        82.0   \n",
       "1                Diabetes   64          15  ...   56.0   328.0        89.0   \n",
       "2                    None   19          13  ...  137.0   213.0        77.0   \n",
       "3  Coronary Heart Disease   33           9  ...  167.0   275.0        64.0   \n",
       "4                Diabetes   23           7  ...  153.0   331.0        71.0   \n",
       "\n",
       "   HDL cholesterol  Charlson Index  Blood Glucose  Insurance   salary  \\\n",
       "0             58.0              27              7  3600000.0  1300000   \n",
       "1             68.0               5              6  1600000.0   400000   \n",
       "2             43.0              40              6  3400000.0   900000   \n",
       "3             60.0              27              7   700000.0  2300000   \n",
       "4             64.0              32              7  3200000.0  1100000   \n",
       "\n",
       "   FT/month  Infect_Prob  \n",
       "0       2.0    49.135010  \n",
       "1       1.0    51.147880  \n",
       "2       1.0    73.224000  \n",
       "3       1.0    48.779225  \n",
       "4       1.0    87.868800  \n",
       "\n",
       "[5 rows x 24 columns]"
      ]
     },
     "execution_count": 34,
     "metadata": {},
     "output_type": "execute_result"
    }
   ],
   "source": [
    "predata = data1.drop(['Occupation', 'Name', 'Designation','people_ID'], axis = 1)\n",
    "predata.head()"
   ]
  },
  {
   "cell_type": "code",
   "execution_count": 35,
   "metadata": {},
   "outputs": [
    {
     "data": {
      "text/html": [
       "<div>\n",
       "<style scoped>\n",
       "    .dataframe tbody tr th:only-of-type {\n",
       "        vertical-align: middle;\n",
       "    }\n",
       "\n",
       "    .dataframe tbody tr th {\n",
       "        vertical-align: top;\n",
       "    }\n",
       "\n",
       "    .dataframe thead th {\n",
       "        text-align: right;\n",
       "    }\n",
       "</style>\n",
       "<table border=\"1\" class=\"dataframe\">\n",
       "  <thead>\n",
       "    <tr style=\"text-align: right;\">\n",
       "      <th></th>\n",
       "      <th>Region</th>\n",
       "      <th>Gender</th>\n",
       "      <th>Married</th>\n",
       "      <th>Mode_transport</th>\n",
       "      <th>comorbidity</th>\n",
       "      <th>Pulmonary score</th>\n",
       "      <th>cardiological pressure</th>\n",
       "    </tr>\n",
       "  </thead>\n",
       "  <tbody>\n",
       "    <tr>\n",
       "      <th>0</th>\n",
       "      <td>Bhubaneshwar</td>\n",
       "      <td>Female</td>\n",
       "      <td>YES</td>\n",
       "      <td>Public</td>\n",
       "      <td>Hypertension</td>\n",
       "      <td>&lt;400</td>\n",
       "      <td>Normal</td>\n",
       "    </tr>\n",
       "    <tr>\n",
       "      <th>1</th>\n",
       "      <td>Bhubaneshwar</td>\n",
       "      <td>Female</td>\n",
       "      <td>YES</td>\n",
       "      <td>Walk</td>\n",
       "      <td>Diabetes</td>\n",
       "      <td>&lt;100</td>\n",
       "      <td>Stage-02</td>\n",
       "    </tr>\n",
       "    <tr>\n",
       "      <th>2</th>\n",
       "      <td>Bhubaneshwar</td>\n",
       "      <td>Female</td>\n",
       "      <td>NO</td>\n",
       "      <td>Public</td>\n",
       "      <td>None</td>\n",
       "      <td>&lt;300</td>\n",
       "      <td>Elevated</td>\n",
       "    </tr>\n",
       "    <tr>\n",
       "      <th>3</th>\n",
       "      <td>Bhubaneshwar</td>\n",
       "      <td>Female</td>\n",
       "      <td>YES</td>\n",
       "      <td>Car</td>\n",
       "      <td>Coronary Heart Disease</td>\n",
       "      <td>&lt;200</td>\n",
       "      <td>Stage-01</td>\n",
       "    </tr>\n",
       "    <tr>\n",
       "      <th>4</th>\n",
       "      <td>Bhubaneshwar</td>\n",
       "      <td>Female</td>\n",
       "      <td>NO</td>\n",
       "      <td>Car</td>\n",
       "      <td>Diabetes</td>\n",
       "      <td>&lt;400</td>\n",
       "      <td>Normal</td>\n",
       "    </tr>\n",
       "  </tbody>\n",
       "</table>\n",
       "</div>"
      ],
      "text/plain": [
       "         Region  Gender Married Mode_transport             comorbidity  \\\n",
       "0  Bhubaneshwar  Female     YES         Public            Hypertension   \n",
       "1  Bhubaneshwar  Female     YES           Walk                Diabetes   \n",
       "2  Bhubaneshwar  Female      NO         Public                    None   \n",
       "3  Bhubaneshwar  Female     YES            Car  Coronary Heart Disease   \n",
       "4  Bhubaneshwar  Female      NO            Car                Diabetes   \n",
       "\n",
       "  Pulmonary score cardiological pressure  \n",
       "0            <400                 Normal  \n",
       "1            <100               Stage-02  \n",
       "2            <300               Elevated  \n",
       "3            <200               Stage-01  \n",
       "4            <400                 Normal  "
      ]
     },
     "execution_count": 35,
     "metadata": {},
     "output_type": "execute_result"
    }
   ],
   "source": [
    "catdata = predata.select_dtypes(include='O')\n",
    "catdata.head()"
   ]
  },
  {
   "cell_type": "code",
   "execution_count": 36,
   "metadata": {},
   "outputs": [],
   "source": [
    "predata.to_csv(\"predata.csv\", index = False)"
   ]
  },
  {
   "cell_type": "code",
   "execution_count": 37,
   "metadata": {},
   "outputs": [],
   "source": [
    "predata = pd.read_csv(\"predata.csv\")"
   ]
  },
  {
   "cell_type": "code",
   "execution_count": 38,
   "metadata": {},
   "outputs": [
    {
     "data": {
      "text/html": [
       "<div>\n",
       "<style scoped>\n",
       "    .dataframe tbody tr th:only-of-type {\n",
       "        vertical-align: middle;\n",
       "    }\n",
       "\n",
       "    .dataframe tbody tr th {\n",
       "        vertical-align: top;\n",
       "    }\n",
       "\n",
       "    .dataframe thead th {\n",
       "        text-align: right;\n",
       "    }\n",
       "</style>\n",
       "<table border=\"1\" class=\"dataframe\">\n",
       "  <thead>\n",
       "    <tr style=\"text-align: right;\">\n",
       "      <th></th>\n",
       "      <th>Region</th>\n",
       "      <th>Married</th>\n",
       "      <th>Children</th>\n",
       "      <th>Mode_transport</th>\n",
       "      <th>cases/1M</th>\n",
       "      <th>Deaths/1M</th>\n",
       "      <th>comorbidity</th>\n",
       "      <th>Age</th>\n",
       "      <th>Coma score</th>\n",
       "      <th>Pulmonary score</th>\n",
       "      <th>...</th>\n",
       "      <th>d-dimer</th>\n",
       "      <th>Heart rate</th>\n",
       "      <th>HDL cholesterol</th>\n",
       "      <th>Charlson Index</th>\n",
       "      <th>Blood Glucose</th>\n",
       "      <th>Insurance</th>\n",
       "      <th>salary</th>\n",
       "      <th>FT/month</th>\n",
       "      <th>Infect_Prob</th>\n",
       "      <th>Male</th>\n",
       "    </tr>\n",
       "  </thead>\n",
       "  <tbody>\n",
       "    <tr>\n",
       "      <th>0</th>\n",
       "      <td>Bhubaneshwar</td>\n",
       "      <td>YES</td>\n",
       "      <td>1.0</td>\n",
       "      <td>Public</td>\n",
       "      <td>2</td>\n",
       "      <td>0</td>\n",
       "      <td>Hypertension</td>\n",
       "      <td>68</td>\n",
       "      <td>8</td>\n",
       "      <td>&lt;400</td>\n",
       "      <td>...</td>\n",
       "      <td>233.0</td>\n",
       "      <td>82.0</td>\n",
       "      <td>58.0</td>\n",
       "      <td>27</td>\n",
       "      <td>7</td>\n",
       "      <td>3600000.0</td>\n",
       "      <td>1300000</td>\n",
       "      <td>2.0</td>\n",
       "      <td>49.135010</td>\n",
       "      <td>0</td>\n",
       "    </tr>\n",
       "    <tr>\n",
       "      <th>1</th>\n",
       "      <td>Bhubaneshwar</td>\n",
       "      <td>YES</td>\n",
       "      <td>2.0</td>\n",
       "      <td>Walk</td>\n",
       "      <td>2</td>\n",
       "      <td>0</td>\n",
       "      <td>Diabetes</td>\n",
       "      <td>64</td>\n",
       "      <td>15</td>\n",
       "      <td>&lt;100</td>\n",
       "      <td>...</td>\n",
       "      <td>328.0</td>\n",
       "      <td>89.0</td>\n",
       "      <td>68.0</td>\n",
       "      <td>5</td>\n",
       "      <td>6</td>\n",
       "      <td>1600000.0</td>\n",
       "      <td>400000</td>\n",
       "      <td>1.0</td>\n",
       "      <td>51.147880</td>\n",
       "      <td>0</td>\n",
       "    </tr>\n",
       "    <tr>\n",
       "      <th>2</th>\n",
       "      <td>Bhubaneshwar</td>\n",
       "      <td>NO</td>\n",
       "      <td>1.0</td>\n",
       "      <td>Public</td>\n",
       "      <td>2</td>\n",
       "      <td>0</td>\n",
       "      <td>None</td>\n",
       "      <td>19</td>\n",
       "      <td>13</td>\n",
       "      <td>&lt;300</td>\n",
       "      <td>...</td>\n",
       "      <td>213.0</td>\n",
       "      <td>77.0</td>\n",
       "      <td>43.0</td>\n",
       "      <td>40</td>\n",
       "      <td>6</td>\n",
       "      <td>3400000.0</td>\n",
       "      <td>900000</td>\n",
       "      <td>1.0</td>\n",
       "      <td>73.224000</td>\n",
       "      <td>0</td>\n",
       "    </tr>\n",
       "    <tr>\n",
       "      <th>3</th>\n",
       "      <td>Bhubaneshwar</td>\n",
       "      <td>YES</td>\n",
       "      <td>1.0</td>\n",
       "      <td>Car</td>\n",
       "      <td>2</td>\n",
       "      <td>0</td>\n",
       "      <td>Coronary Heart Disease</td>\n",
       "      <td>33</td>\n",
       "      <td>9</td>\n",
       "      <td>&lt;200</td>\n",
       "      <td>...</td>\n",
       "      <td>275.0</td>\n",
       "      <td>64.0</td>\n",
       "      <td>60.0</td>\n",
       "      <td>27</td>\n",
       "      <td>7</td>\n",
       "      <td>700000.0</td>\n",
       "      <td>2300000</td>\n",
       "      <td>1.0</td>\n",
       "      <td>48.779225</td>\n",
       "      <td>0</td>\n",
       "    </tr>\n",
       "    <tr>\n",
       "      <th>4</th>\n",
       "      <td>Bhubaneshwar</td>\n",
       "      <td>NO</td>\n",
       "      <td>2.0</td>\n",
       "      <td>Car</td>\n",
       "      <td>2</td>\n",
       "      <td>0</td>\n",
       "      <td>Diabetes</td>\n",
       "      <td>23</td>\n",
       "      <td>7</td>\n",
       "      <td>&lt;400</td>\n",
       "      <td>...</td>\n",
       "      <td>331.0</td>\n",
       "      <td>71.0</td>\n",
       "      <td>64.0</td>\n",
       "      <td>32</td>\n",
       "      <td>7</td>\n",
       "      <td>3200000.0</td>\n",
       "      <td>1100000</td>\n",
       "      <td>1.0</td>\n",
       "      <td>87.868800</td>\n",
       "      <td>0</td>\n",
       "    </tr>\n",
       "  </tbody>\n",
       "</table>\n",
       "<p>5 rows × 24 columns</p>\n",
       "</div>"
      ],
      "text/plain": [
       "         Region Married  Children Mode_transport  cases/1M  Deaths/1M  \\\n",
       "0  Bhubaneshwar     YES       1.0         Public         2          0   \n",
       "1  Bhubaneshwar     YES       2.0           Walk         2          0   \n",
       "2  Bhubaneshwar      NO       1.0         Public         2          0   \n",
       "3  Bhubaneshwar     YES       1.0            Car         2          0   \n",
       "4  Bhubaneshwar      NO       2.0            Car         2          0   \n",
       "\n",
       "              comorbidity  Age  Coma score Pulmonary score  ... d-dimer  \\\n",
       "0            Hypertension   68           8            <400  ...   233.0   \n",
       "1                Diabetes   64          15            <100  ...   328.0   \n",
       "2                    None   19          13            <300  ...   213.0   \n",
       "3  Coronary Heart Disease   33           9            <200  ...   275.0   \n",
       "4                Diabetes   23           7            <400  ...   331.0   \n",
       "\n",
       "   Heart rate  HDL cholesterol  Charlson Index  Blood Glucose  Insurance  \\\n",
       "0        82.0             58.0              27              7  3600000.0   \n",
       "1        89.0             68.0               5              6  1600000.0   \n",
       "2        77.0             43.0              40              6  3400000.0   \n",
       "3        64.0             60.0              27              7   700000.0   \n",
       "4        71.0             64.0              32              7  3200000.0   \n",
       "\n",
       "    salary  FT/month  Infect_Prob  Male  \n",
       "0  1300000       2.0    49.135010     0  \n",
       "1   400000       1.0    51.147880     0  \n",
       "2   900000       1.0    73.224000     0  \n",
       "3  2300000       1.0    48.779225     0  \n",
       "4  1100000       1.0    87.868800     0  \n",
       "\n",
       "[5 rows x 24 columns]"
      ]
     },
     "execution_count": 38,
     "metadata": {},
     "output_type": "execute_result"
    }
   ],
   "source": [
    "# Get one hot encoding of columns Gender\n",
    "one_hot = pd.get_dummies(predata['Gender'], drop_first=True)\n",
    "predata = predata.drop('Gender',axis = 1)\n",
    "predata = predata.join(one_hot)\n",
    "predata.head()"
   ]
  },
  {
   "cell_type": "code",
   "execution_count": 39,
   "metadata": {},
   "outputs": [],
   "source": [
    "predata['Married'] = predata['Married'].map({'NO': 0, 'YES': 1})"
   ]
  },
  {
   "cell_type": "code",
   "execution_count": 40,
   "metadata": {},
   "outputs": [
    {
     "data": {
      "text/html": [
       "<div>\n",
       "<style scoped>\n",
       "    .dataframe tbody tr th:only-of-type {\n",
       "        vertical-align: middle;\n",
       "    }\n",
       "\n",
       "    .dataframe tbody tr th {\n",
       "        vertical-align: top;\n",
       "    }\n",
       "\n",
       "    .dataframe thead th {\n",
       "        text-align: right;\n",
       "    }\n",
       "</style>\n",
       "<table border=\"1\" class=\"dataframe\">\n",
       "  <thead>\n",
       "    <tr style=\"text-align: right;\">\n",
       "      <th></th>\n",
       "      <th>Married</th>\n",
       "      <th>Children</th>\n",
       "      <th>Mode_transport</th>\n",
       "      <th>cases/1M</th>\n",
       "      <th>Deaths/1M</th>\n",
       "      <th>comorbidity</th>\n",
       "      <th>Age</th>\n",
       "      <th>Coma score</th>\n",
       "      <th>Pulmonary score</th>\n",
       "      <th>cardiological pressure</th>\n",
       "      <th>...</th>\n",
       "      <th>Insurance</th>\n",
       "      <th>salary</th>\n",
       "      <th>FT/month</th>\n",
       "      <th>Infect_Prob</th>\n",
       "      <th>Male</th>\n",
       "      <th>Bengaluru</th>\n",
       "      <th>Bhubaneshwar</th>\n",
       "      <th>Chandigarh</th>\n",
       "      <th>Chennai</th>\n",
       "      <th>Delhi</th>\n",
       "    </tr>\n",
       "  </thead>\n",
       "  <tbody>\n",
       "    <tr>\n",
       "      <th>0</th>\n",
       "      <td>1</td>\n",
       "      <td>1.0</td>\n",
       "      <td>Public</td>\n",
       "      <td>2</td>\n",
       "      <td>0</td>\n",
       "      <td>Hypertension</td>\n",
       "      <td>68</td>\n",
       "      <td>8</td>\n",
       "      <td>&lt;400</td>\n",
       "      <td>Normal</td>\n",
       "      <td>...</td>\n",
       "      <td>3600000.0</td>\n",
       "      <td>1300000</td>\n",
       "      <td>2.0</td>\n",
       "      <td>49.135010</td>\n",
       "      <td>0</td>\n",
       "      <td>0</td>\n",
       "      <td>1</td>\n",
       "      <td>0</td>\n",
       "      <td>0</td>\n",
       "      <td>0</td>\n",
       "    </tr>\n",
       "    <tr>\n",
       "      <th>1</th>\n",
       "      <td>1</td>\n",
       "      <td>2.0</td>\n",
       "      <td>Walk</td>\n",
       "      <td>2</td>\n",
       "      <td>0</td>\n",
       "      <td>Diabetes</td>\n",
       "      <td>64</td>\n",
       "      <td>15</td>\n",
       "      <td>&lt;100</td>\n",
       "      <td>Stage-02</td>\n",
       "      <td>...</td>\n",
       "      <td>1600000.0</td>\n",
       "      <td>400000</td>\n",
       "      <td>1.0</td>\n",
       "      <td>51.147880</td>\n",
       "      <td>0</td>\n",
       "      <td>0</td>\n",
       "      <td>1</td>\n",
       "      <td>0</td>\n",
       "      <td>0</td>\n",
       "      <td>0</td>\n",
       "    </tr>\n",
       "    <tr>\n",
       "      <th>2</th>\n",
       "      <td>0</td>\n",
       "      <td>1.0</td>\n",
       "      <td>Public</td>\n",
       "      <td>2</td>\n",
       "      <td>0</td>\n",
       "      <td>None</td>\n",
       "      <td>19</td>\n",
       "      <td>13</td>\n",
       "      <td>&lt;300</td>\n",
       "      <td>Elevated</td>\n",
       "      <td>...</td>\n",
       "      <td>3400000.0</td>\n",
       "      <td>900000</td>\n",
       "      <td>1.0</td>\n",
       "      <td>73.224000</td>\n",
       "      <td>0</td>\n",
       "      <td>0</td>\n",
       "      <td>1</td>\n",
       "      <td>0</td>\n",
       "      <td>0</td>\n",
       "      <td>0</td>\n",
       "    </tr>\n",
       "    <tr>\n",
       "      <th>3</th>\n",
       "      <td>1</td>\n",
       "      <td>1.0</td>\n",
       "      <td>Car</td>\n",
       "      <td>2</td>\n",
       "      <td>0</td>\n",
       "      <td>Coronary Heart Disease</td>\n",
       "      <td>33</td>\n",
       "      <td>9</td>\n",
       "      <td>&lt;200</td>\n",
       "      <td>Stage-01</td>\n",
       "      <td>...</td>\n",
       "      <td>700000.0</td>\n",
       "      <td>2300000</td>\n",
       "      <td>1.0</td>\n",
       "      <td>48.779225</td>\n",
       "      <td>0</td>\n",
       "      <td>0</td>\n",
       "      <td>1</td>\n",
       "      <td>0</td>\n",
       "      <td>0</td>\n",
       "      <td>0</td>\n",
       "    </tr>\n",
       "    <tr>\n",
       "      <th>4</th>\n",
       "      <td>0</td>\n",
       "      <td>2.0</td>\n",
       "      <td>Car</td>\n",
       "      <td>2</td>\n",
       "      <td>0</td>\n",
       "      <td>Diabetes</td>\n",
       "      <td>23</td>\n",
       "      <td>7</td>\n",
       "      <td>&lt;400</td>\n",
       "      <td>Normal</td>\n",
       "      <td>...</td>\n",
       "      <td>3200000.0</td>\n",
       "      <td>1100000</td>\n",
       "      <td>1.0</td>\n",
       "      <td>87.868800</td>\n",
       "      <td>0</td>\n",
       "      <td>0</td>\n",
       "      <td>1</td>\n",
       "      <td>0</td>\n",
       "      <td>0</td>\n",
       "      <td>0</td>\n",
       "    </tr>\n",
       "  </tbody>\n",
       "</table>\n",
       "<p>5 rows × 28 columns</p>\n",
       "</div>"
      ],
      "text/plain": [
       "   Married  Children Mode_transport  cases/1M  Deaths/1M  \\\n",
       "0        1       1.0         Public         2          0   \n",
       "1        1       2.0           Walk         2          0   \n",
       "2        0       1.0         Public         2          0   \n",
       "3        1       1.0            Car         2          0   \n",
       "4        0       2.0            Car         2          0   \n",
       "\n",
       "              comorbidity  Age  Coma score Pulmonary score  \\\n",
       "0            Hypertension   68           8            <400   \n",
       "1                Diabetes   64          15            <100   \n",
       "2                    None   19          13            <300   \n",
       "3  Coronary Heart Disease   33           9            <200   \n",
       "4                Diabetes   23           7            <400   \n",
       "\n",
       "  cardiological pressure  ...  Insurance   salary  FT/month  Infect_Prob  \\\n",
       "0                 Normal  ...  3600000.0  1300000       2.0    49.135010   \n",
       "1               Stage-02  ...  1600000.0   400000       1.0    51.147880   \n",
       "2               Elevated  ...  3400000.0   900000       1.0    73.224000   \n",
       "3               Stage-01  ...   700000.0  2300000       1.0    48.779225   \n",
       "4                 Normal  ...  3200000.0  1100000       1.0    87.868800   \n",
       "\n",
       "   Male  Bengaluru  Bhubaneshwar  Chandigarh  Chennai  Delhi  \n",
       "0     0          0             1           0        0      0  \n",
       "1     0          0             1           0        0      0  \n",
       "2     0          0             1           0        0      0  \n",
       "3     0          0             1           0        0      0  \n",
       "4     0          0             1           0        0      0  \n",
       "\n",
       "[5 rows x 28 columns]"
      ]
     },
     "execution_count": 40,
     "metadata": {},
     "output_type": "execute_result"
    }
   ],
   "source": [
    "# Get one hot encoding of columns Region\n",
    "one_hot = pd.get_dummies(predata['Region'])\n",
    "predata = predata.drop('Region',axis = 1)\n",
    "predata = predata.join(one_hot)\n",
    "predata.head()"
   ]
  },
  {
   "cell_type": "code",
   "execution_count": 41,
   "metadata": {},
   "outputs": [
    {
     "data": {
      "text/html": [
       "<div>\n",
       "<style scoped>\n",
       "    .dataframe tbody tr th:only-of-type {\n",
       "        vertical-align: middle;\n",
       "    }\n",
       "\n",
       "    .dataframe tbody tr th {\n",
       "        vertical-align: top;\n",
       "    }\n",
       "\n",
       "    .dataframe thead th {\n",
       "        text-align: right;\n",
       "    }\n",
       "</style>\n",
       "<table border=\"1\" class=\"dataframe\">\n",
       "  <thead>\n",
       "    <tr style=\"text-align: right;\">\n",
       "      <th></th>\n",
       "      <th>Married</th>\n",
       "      <th>Children</th>\n",
       "      <th>Mode_transport</th>\n",
       "      <th>cases/1M</th>\n",
       "      <th>Deaths/1M</th>\n",
       "      <th>Age</th>\n",
       "      <th>Coma score</th>\n",
       "      <th>Pulmonary score</th>\n",
       "      <th>cardiological pressure</th>\n",
       "      <th>Diuresis</th>\n",
       "      <th>...</th>\n",
       "      <th>Male</th>\n",
       "      <th>Bengaluru</th>\n",
       "      <th>Bhubaneshwar</th>\n",
       "      <th>Chandigarh</th>\n",
       "      <th>Chennai</th>\n",
       "      <th>Delhi</th>\n",
       "      <th>Coronary Heart Disease</th>\n",
       "      <th>Diabetes</th>\n",
       "      <th>Hypertension</th>\n",
       "      <th>None</th>\n",
       "    </tr>\n",
       "  </thead>\n",
       "  <tbody>\n",
       "    <tr>\n",
       "      <th>0</th>\n",
       "      <td>1</td>\n",
       "      <td>1.0</td>\n",
       "      <td>Public</td>\n",
       "      <td>2</td>\n",
       "      <td>0</td>\n",
       "      <td>68</td>\n",
       "      <td>8</td>\n",
       "      <td>&lt;400</td>\n",
       "      <td>Normal</td>\n",
       "      <td>441.000000</td>\n",
       "      <td>...</td>\n",
       "      <td>0</td>\n",
       "      <td>0</td>\n",
       "      <td>1</td>\n",
       "      <td>0</td>\n",
       "      <td>0</td>\n",
       "      <td>0</td>\n",
       "      <td>0</td>\n",
       "      <td>0</td>\n",
       "      <td>1</td>\n",
       "      <td>0</td>\n",
       "    </tr>\n",
       "    <tr>\n",
       "      <th>1</th>\n",
       "      <td>1</td>\n",
       "      <td>2.0</td>\n",
       "      <td>Walk</td>\n",
       "      <td>2</td>\n",
       "      <td>0</td>\n",
       "      <td>64</td>\n",
       "      <td>15</td>\n",
       "      <td>&lt;100</td>\n",
       "      <td>Stage-02</td>\n",
       "      <td>278.806261</td>\n",
       "      <td>...</td>\n",
       "      <td>0</td>\n",
       "      <td>0</td>\n",
       "      <td>1</td>\n",
       "      <td>0</td>\n",
       "      <td>0</td>\n",
       "      <td>0</td>\n",
       "      <td>0</td>\n",
       "      <td>1</td>\n",
       "      <td>0</td>\n",
       "      <td>0</td>\n",
       "    </tr>\n",
       "    <tr>\n",
       "      <th>2</th>\n",
       "      <td>0</td>\n",
       "      <td>1.0</td>\n",
       "      <td>Public</td>\n",
       "      <td>2</td>\n",
       "      <td>0</td>\n",
       "      <td>19</td>\n",
       "      <td>13</td>\n",
       "      <td>&lt;300</td>\n",
       "      <td>Elevated</td>\n",
       "      <td>416.000000</td>\n",
       "      <td>...</td>\n",
       "      <td>0</td>\n",
       "      <td>0</td>\n",
       "      <td>1</td>\n",
       "      <td>0</td>\n",
       "      <td>0</td>\n",
       "      <td>0</td>\n",
       "      <td>0</td>\n",
       "      <td>0</td>\n",
       "      <td>0</td>\n",
       "      <td>1</td>\n",
       "    </tr>\n",
       "    <tr>\n",
       "      <th>3</th>\n",
       "      <td>1</td>\n",
       "      <td>1.0</td>\n",
       "      <td>Car</td>\n",
       "      <td>2</td>\n",
       "      <td>0</td>\n",
       "      <td>33</td>\n",
       "      <td>9</td>\n",
       "      <td>&lt;200</td>\n",
       "      <td>Stage-01</td>\n",
       "      <td>410.000000</td>\n",
       "      <td>...</td>\n",
       "      <td>0</td>\n",
       "      <td>0</td>\n",
       "      <td>1</td>\n",
       "      <td>0</td>\n",
       "      <td>0</td>\n",
       "      <td>0</td>\n",
       "      <td>1</td>\n",
       "      <td>0</td>\n",
       "      <td>0</td>\n",
       "      <td>0</td>\n",
       "    </tr>\n",
       "    <tr>\n",
       "      <th>4</th>\n",
       "      <td>0</td>\n",
       "      <td>2.0</td>\n",
       "      <td>Car</td>\n",
       "      <td>2</td>\n",
       "      <td>0</td>\n",
       "      <td>23</td>\n",
       "      <td>7</td>\n",
       "      <td>&lt;400</td>\n",
       "      <td>Normal</td>\n",
       "      <td>390.000000</td>\n",
       "      <td>...</td>\n",
       "      <td>0</td>\n",
       "      <td>0</td>\n",
       "      <td>1</td>\n",
       "      <td>0</td>\n",
       "      <td>0</td>\n",
       "      <td>0</td>\n",
       "      <td>0</td>\n",
       "      <td>1</td>\n",
       "      <td>0</td>\n",
       "      <td>0</td>\n",
       "    </tr>\n",
       "  </tbody>\n",
       "</table>\n",
       "<p>5 rows × 31 columns</p>\n",
       "</div>"
      ],
      "text/plain": [
       "   Married  Children Mode_transport  cases/1M  Deaths/1M  Age  Coma score  \\\n",
       "0        1       1.0         Public         2          0   68           8   \n",
       "1        1       2.0           Walk         2          0   64          15   \n",
       "2        0       1.0         Public         2          0   19          13   \n",
       "3        1       1.0            Car         2          0   33           9   \n",
       "4        0       2.0            Car         2          0   23           7   \n",
       "\n",
       "  Pulmonary score cardiological pressure    Diuresis  ...  Male  Bengaluru  \\\n",
       "0            <400                 Normal  441.000000  ...     0          0   \n",
       "1            <100               Stage-02  278.806261  ...     0          0   \n",
       "2            <300               Elevated  416.000000  ...     0          0   \n",
       "3            <200               Stage-01  410.000000  ...     0          0   \n",
       "4            <400                 Normal  390.000000  ...     0          0   \n",
       "\n",
       "   Bhubaneshwar  Chandigarh  Chennai  Delhi  Coronary Heart Disease  Diabetes  \\\n",
       "0             1           0        0      0                       0         0   \n",
       "1             1           0        0      0                       0         1   \n",
       "2             1           0        0      0                       0         0   \n",
       "3             1           0        0      0                       1         0   \n",
       "4             1           0        0      0                       0         1   \n",
       "\n",
       "   Hypertension  None  \n",
       "0             1     0  \n",
       "1             0     0  \n",
       "2             0     1  \n",
       "3             0     0  \n",
       "4             0     0  \n",
       "\n",
       "[5 rows x 31 columns]"
      ]
     },
     "execution_count": 41,
     "metadata": {},
     "output_type": "execute_result"
    }
   ],
   "source": [
    "# Get one hot encoding of columns comorbidity\n",
    "one_hot = pd.get_dummies(predata['comorbidity'])\n",
    "predata = predata.drop('comorbidity',axis = 1)\n",
    "predata = predata.join(one_hot)\n",
    "predata.head()"
   ]
  },
  {
   "cell_type": "code",
   "execution_count": 42,
   "metadata": {},
   "outputs": [
    {
     "data": {
      "text/html": [
       "<div>\n",
       "<style scoped>\n",
       "    .dataframe tbody tr th:only-of-type {\n",
       "        vertical-align: middle;\n",
       "    }\n",
       "\n",
       "    .dataframe tbody tr th {\n",
       "        vertical-align: top;\n",
       "    }\n",
       "\n",
       "    .dataframe thead th {\n",
       "        text-align: right;\n",
       "    }\n",
       "</style>\n",
       "<table border=\"1\" class=\"dataframe\">\n",
       "  <thead>\n",
       "    <tr style=\"text-align: right;\">\n",
       "      <th></th>\n",
       "      <th>Married</th>\n",
       "      <th>Children</th>\n",
       "      <th>cases/1M</th>\n",
       "      <th>Deaths/1M</th>\n",
       "      <th>Age</th>\n",
       "      <th>Coma score</th>\n",
       "      <th>Pulmonary score</th>\n",
       "      <th>cardiological pressure</th>\n",
       "      <th>Diuresis</th>\n",
       "      <th>Platelets</th>\n",
       "      <th>...</th>\n",
       "      <th>Chandigarh</th>\n",
       "      <th>Chennai</th>\n",
       "      <th>Delhi</th>\n",
       "      <th>Coronary Heart Disease</th>\n",
       "      <th>Diabetes</th>\n",
       "      <th>Hypertension</th>\n",
       "      <th>None</th>\n",
       "      <th>Car</th>\n",
       "      <th>Public</th>\n",
       "      <th>Walk</th>\n",
       "    </tr>\n",
       "  </thead>\n",
       "  <tbody>\n",
       "    <tr>\n",
       "      <th>0</th>\n",
       "      <td>1</td>\n",
       "      <td>1.0</td>\n",
       "      <td>2</td>\n",
       "      <td>0</td>\n",
       "      <td>68</td>\n",
       "      <td>8</td>\n",
       "      <td>&lt;400</td>\n",
       "      <td>Normal</td>\n",
       "      <td>441.000000</td>\n",
       "      <td>154.0</td>\n",
       "      <td>...</td>\n",
       "      <td>0</td>\n",
       "      <td>0</td>\n",
       "      <td>0</td>\n",
       "      <td>0</td>\n",
       "      <td>0</td>\n",
       "      <td>1</td>\n",
       "      <td>0</td>\n",
       "      <td>0</td>\n",
       "      <td>1</td>\n",
       "      <td>0</td>\n",
       "    </tr>\n",
       "    <tr>\n",
       "      <th>1</th>\n",
       "      <td>1</td>\n",
       "      <td>2.0</td>\n",
       "      <td>2</td>\n",
       "      <td>0</td>\n",
       "      <td>64</td>\n",
       "      <td>15</td>\n",
       "      <td>&lt;100</td>\n",
       "      <td>Stage-02</td>\n",
       "      <td>278.806261</td>\n",
       "      <td>121.0</td>\n",
       "      <td>...</td>\n",
       "      <td>0</td>\n",
       "      <td>0</td>\n",
       "      <td>0</td>\n",
       "      <td>0</td>\n",
       "      <td>1</td>\n",
       "      <td>0</td>\n",
       "      <td>0</td>\n",
       "      <td>0</td>\n",
       "      <td>0</td>\n",
       "      <td>1</td>\n",
       "    </tr>\n",
       "    <tr>\n",
       "      <th>2</th>\n",
       "      <td>0</td>\n",
       "      <td>1.0</td>\n",
       "      <td>2</td>\n",
       "      <td>0</td>\n",
       "      <td>19</td>\n",
       "      <td>13</td>\n",
       "      <td>&lt;300</td>\n",
       "      <td>Elevated</td>\n",
       "      <td>416.000000</td>\n",
       "      <td>124.0</td>\n",
       "      <td>...</td>\n",
       "      <td>0</td>\n",
       "      <td>0</td>\n",
       "      <td>0</td>\n",
       "      <td>0</td>\n",
       "      <td>0</td>\n",
       "      <td>0</td>\n",
       "      <td>1</td>\n",
       "      <td>0</td>\n",
       "      <td>1</td>\n",
       "      <td>0</td>\n",
       "    </tr>\n",
       "    <tr>\n",
       "      <th>3</th>\n",
       "      <td>1</td>\n",
       "      <td>1.0</td>\n",
       "      <td>2</td>\n",
       "      <td>0</td>\n",
       "      <td>33</td>\n",
       "      <td>9</td>\n",
       "      <td>&lt;200</td>\n",
       "      <td>Stage-01</td>\n",
       "      <td>410.000000</td>\n",
       "      <td>98.0</td>\n",
       "      <td>...</td>\n",
       "      <td>0</td>\n",
       "      <td>0</td>\n",
       "      <td>0</td>\n",
       "      <td>1</td>\n",
       "      <td>0</td>\n",
       "      <td>0</td>\n",
       "      <td>0</td>\n",
       "      <td>1</td>\n",
       "      <td>0</td>\n",
       "      <td>0</td>\n",
       "    </tr>\n",
       "    <tr>\n",
       "      <th>4</th>\n",
       "      <td>0</td>\n",
       "      <td>2.0</td>\n",
       "      <td>2</td>\n",
       "      <td>0</td>\n",
       "      <td>23</td>\n",
       "      <td>7</td>\n",
       "      <td>&lt;400</td>\n",
       "      <td>Normal</td>\n",
       "      <td>390.000000</td>\n",
       "      <td>21.0</td>\n",
       "      <td>...</td>\n",
       "      <td>0</td>\n",
       "      <td>0</td>\n",
       "      <td>0</td>\n",
       "      <td>0</td>\n",
       "      <td>1</td>\n",
       "      <td>0</td>\n",
       "      <td>0</td>\n",
       "      <td>1</td>\n",
       "      <td>0</td>\n",
       "      <td>0</td>\n",
       "    </tr>\n",
       "  </tbody>\n",
       "</table>\n",
       "<p>5 rows × 33 columns</p>\n",
       "</div>"
      ],
      "text/plain": [
       "   Married  Children  cases/1M  Deaths/1M  Age  Coma score Pulmonary score  \\\n",
       "0        1       1.0         2          0   68           8            <400   \n",
       "1        1       2.0         2          0   64          15            <100   \n",
       "2        0       1.0         2          0   19          13            <300   \n",
       "3        1       1.0         2          0   33           9            <200   \n",
       "4        0       2.0         2          0   23           7            <400   \n",
       "\n",
       "  cardiological pressure    Diuresis  Platelets  ...  Chandigarh  Chennai  \\\n",
       "0                 Normal  441.000000      154.0  ...           0        0   \n",
       "1               Stage-02  278.806261      121.0  ...           0        0   \n",
       "2               Elevated  416.000000      124.0  ...           0        0   \n",
       "3               Stage-01  410.000000       98.0  ...           0        0   \n",
       "4                 Normal  390.000000       21.0  ...           0        0   \n",
       "\n",
       "   Delhi  Coronary Heart Disease  Diabetes  Hypertension  None  Car  Public  \\\n",
       "0      0                       0         0             1     0    0       1   \n",
       "1      0                       0         1             0     0    0       0   \n",
       "2      0                       0         0             0     1    0       1   \n",
       "3      0                       1         0             0     0    1       0   \n",
       "4      0                       0         1             0     0    1       0   \n",
       "\n",
       "   Walk  \n",
       "0     0  \n",
       "1     1  \n",
       "2     0  \n",
       "3     0  \n",
       "4     0  \n",
       "\n",
       "[5 rows x 33 columns]"
      ]
     },
     "execution_count": 42,
     "metadata": {},
     "output_type": "execute_result"
    }
   ],
   "source": [
    "# Get one hot encoding of columns mode of transport\n",
    "one_hot = pd.get_dummies(predata['Mode_transport'])\n",
    "predata = predata.drop('Mode_transport',axis = 1)\n",
    "predata = predata.join(one_hot)\n",
    "predata.head()"
   ]
  },
  {
   "cell_type": "code",
   "execution_count": 43,
   "metadata": {},
   "outputs": [],
   "source": [
    "# Label Encoding\n",
    "predata['cardiological pressure'] = predata['cardiological pressure'].map({'Normal':0, 'Elevated':1,\n",
    "                                                                          'Stage-01':2, 'Stage-02':3})\n",
    "\n",
    "predata['Pulmonary score'] = predata['Pulmonary score'].map({'<100':0, '<200':1, '<300':2, '<400':3})"
   ]
  },
  {
   "cell_type": "code",
   "execution_count": 44,
   "metadata": {},
   "outputs": [
    {
     "data": {
      "text/html": [
       "<div>\n",
       "<style scoped>\n",
       "    .dataframe tbody tr th:only-of-type {\n",
       "        vertical-align: middle;\n",
       "    }\n",
       "\n",
       "    .dataframe tbody tr th {\n",
       "        vertical-align: top;\n",
       "    }\n",
       "\n",
       "    .dataframe thead th {\n",
       "        text-align: right;\n",
       "    }\n",
       "</style>\n",
       "<table border=\"1\" class=\"dataframe\">\n",
       "  <thead>\n",
       "    <tr style=\"text-align: right;\">\n",
       "      <th></th>\n",
       "      <th>Married</th>\n",
       "      <th>Children</th>\n",
       "      <th>cases/1M</th>\n",
       "      <th>Deaths/1M</th>\n",
       "      <th>Age</th>\n",
       "      <th>Coma score</th>\n",
       "      <th>Pulmonary score</th>\n",
       "      <th>cardiological pressure</th>\n",
       "      <th>Diuresis</th>\n",
       "      <th>Platelets</th>\n",
       "      <th>...</th>\n",
       "      <th>Chandigarh</th>\n",
       "      <th>Chennai</th>\n",
       "      <th>Delhi</th>\n",
       "      <th>Coronary Heart Disease</th>\n",
       "      <th>Diabetes</th>\n",
       "      <th>Hypertension</th>\n",
       "      <th>None</th>\n",
       "      <th>Car</th>\n",
       "      <th>Public</th>\n",
       "      <th>Walk</th>\n",
       "    </tr>\n",
       "  </thead>\n",
       "  <tbody>\n",
       "    <tr>\n",
       "      <th>0</th>\n",
       "      <td>1</td>\n",
       "      <td>1.0</td>\n",
       "      <td>2</td>\n",
       "      <td>0</td>\n",
       "      <td>68</td>\n",
       "      <td>8</td>\n",
       "      <td>3</td>\n",
       "      <td>0</td>\n",
       "      <td>441.000000</td>\n",
       "      <td>154.0</td>\n",
       "      <td>...</td>\n",
       "      <td>0</td>\n",
       "      <td>0</td>\n",
       "      <td>0</td>\n",
       "      <td>0</td>\n",
       "      <td>0</td>\n",
       "      <td>1</td>\n",
       "      <td>0</td>\n",
       "      <td>0</td>\n",
       "      <td>1</td>\n",
       "      <td>0</td>\n",
       "    </tr>\n",
       "    <tr>\n",
       "      <th>1</th>\n",
       "      <td>1</td>\n",
       "      <td>2.0</td>\n",
       "      <td>2</td>\n",
       "      <td>0</td>\n",
       "      <td>64</td>\n",
       "      <td>15</td>\n",
       "      <td>0</td>\n",
       "      <td>3</td>\n",
       "      <td>278.806261</td>\n",
       "      <td>121.0</td>\n",
       "      <td>...</td>\n",
       "      <td>0</td>\n",
       "      <td>0</td>\n",
       "      <td>0</td>\n",
       "      <td>0</td>\n",
       "      <td>1</td>\n",
       "      <td>0</td>\n",
       "      <td>0</td>\n",
       "      <td>0</td>\n",
       "      <td>0</td>\n",
       "      <td>1</td>\n",
       "    </tr>\n",
       "    <tr>\n",
       "      <th>2</th>\n",
       "      <td>0</td>\n",
       "      <td>1.0</td>\n",
       "      <td>2</td>\n",
       "      <td>0</td>\n",
       "      <td>19</td>\n",
       "      <td>13</td>\n",
       "      <td>2</td>\n",
       "      <td>1</td>\n",
       "      <td>416.000000</td>\n",
       "      <td>124.0</td>\n",
       "      <td>...</td>\n",
       "      <td>0</td>\n",
       "      <td>0</td>\n",
       "      <td>0</td>\n",
       "      <td>0</td>\n",
       "      <td>0</td>\n",
       "      <td>0</td>\n",
       "      <td>1</td>\n",
       "      <td>0</td>\n",
       "      <td>1</td>\n",
       "      <td>0</td>\n",
       "    </tr>\n",
       "    <tr>\n",
       "      <th>3</th>\n",
       "      <td>1</td>\n",
       "      <td>1.0</td>\n",
       "      <td>2</td>\n",
       "      <td>0</td>\n",
       "      <td>33</td>\n",
       "      <td>9</td>\n",
       "      <td>1</td>\n",
       "      <td>2</td>\n",
       "      <td>410.000000</td>\n",
       "      <td>98.0</td>\n",
       "      <td>...</td>\n",
       "      <td>0</td>\n",
       "      <td>0</td>\n",
       "      <td>0</td>\n",
       "      <td>1</td>\n",
       "      <td>0</td>\n",
       "      <td>0</td>\n",
       "      <td>0</td>\n",
       "      <td>1</td>\n",
       "      <td>0</td>\n",
       "      <td>0</td>\n",
       "    </tr>\n",
       "    <tr>\n",
       "      <th>4</th>\n",
       "      <td>0</td>\n",
       "      <td>2.0</td>\n",
       "      <td>2</td>\n",
       "      <td>0</td>\n",
       "      <td>23</td>\n",
       "      <td>7</td>\n",
       "      <td>3</td>\n",
       "      <td>0</td>\n",
       "      <td>390.000000</td>\n",
       "      <td>21.0</td>\n",
       "      <td>...</td>\n",
       "      <td>0</td>\n",
       "      <td>0</td>\n",
       "      <td>0</td>\n",
       "      <td>0</td>\n",
       "      <td>1</td>\n",
       "      <td>0</td>\n",
       "      <td>0</td>\n",
       "      <td>1</td>\n",
       "      <td>0</td>\n",
       "      <td>0</td>\n",
       "    </tr>\n",
       "  </tbody>\n",
       "</table>\n",
       "<p>5 rows × 33 columns</p>\n",
       "</div>"
      ],
      "text/plain": [
       "   Married  Children  cases/1M  Deaths/1M  Age  Coma score  Pulmonary score  \\\n",
       "0        1       1.0         2          0   68           8                3   \n",
       "1        1       2.0         2          0   64          15                0   \n",
       "2        0       1.0         2          0   19          13                2   \n",
       "3        1       1.0         2          0   33           9                1   \n",
       "4        0       2.0         2          0   23           7                3   \n",
       "\n",
       "   cardiological pressure    Diuresis  Platelets  ...  Chandigarh  Chennai  \\\n",
       "0                       0  441.000000      154.0  ...           0        0   \n",
       "1                       3  278.806261      121.0  ...           0        0   \n",
       "2                       1  416.000000      124.0  ...           0        0   \n",
       "3                       2  410.000000       98.0  ...           0        0   \n",
       "4                       0  390.000000       21.0  ...           0        0   \n",
       "\n",
       "   Delhi  Coronary Heart Disease  Diabetes  Hypertension  None  Car  Public  \\\n",
       "0      0                       0         0             1     0    0       1   \n",
       "1      0                       0         1             0     0    0       0   \n",
       "2      0                       0         0             0     1    0       1   \n",
       "3      0                       1         0             0     0    1       0   \n",
       "4      0                       0         1             0     0    1       0   \n",
       "\n",
       "   Walk  \n",
       "0     0  \n",
       "1     1  \n",
       "2     0  \n",
       "3     0  \n",
       "4     0  \n",
       "\n",
       "[5 rows x 33 columns]"
      ]
     },
     "execution_count": 44,
     "metadata": {},
     "output_type": "execute_result"
    }
   ],
   "source": [
    "predata.head()"
   ]
  },
  {
   "cell_type": "code",
   "execution_count": 45,
   "metadata": {},
   "outputs": [],
   "source": [
    "predata.to_csv(\"preprocessed_data.csv\",index=False)\n",
    "data = pd.read_csv(\"preprocessed_data.csv\")"
   ]
  },
  {
   "cell_type": "code",
   "execution_count": 46,
   "metadata": {
    "scrolled": true
   },
   "outputs": [
    {
     "data": {
      "text/html": [
       "<div>\n",
       "<style scoped>\n",
       "    .dataframe tbody tr th:only-of-type {\n",
       "        vertical-align: middle;\n",
       "    }\n",
       "\n",
       "    .dataframe tbody tr th {\n",
       "        vertical-align: top;\n",
       "    }\n",
       "\n",
       "    .dataframe thead th {\n",
       "        text-align: right;\n",
       "    }\n",
       "</style>\n",
       "<table border=\"1\" class=\"dataframe\">\n",
       "  <thead>\n",
       "    <tr style=\"text-align: right;\">\n",
       "      <th></th>\n",
       "      <th>Married</th>\n",
       "      <th>Children</th>\n",
       "      <th>cases/1M</th>\n",
       "      <th>Deaths/1M</th>\n",
       "      <th>Age</th>\n",
       "      <th>Coma score</th>\n",
       "      <th>Pulmonary score</th>\n",
       "      <th>cardiological pressure</th>\n",
       "      <th>Diuresis</th>\n",
       "      <th>Platelets</th>\n",
       "      <th>HBB</th>\n",
       "      <th>d-dimer</th>\n",
       "      <th>Heart rate</th>\n",
       "      <th>HDL cholesterol</th>\n",
       "      <th>Charlson Index</th>\n",
       "      <th>Blood Glucose</th>\n",
       "      <th>Insurance</th>\n",
       "      <th>salary</th>\n",
       "      <th>FT/month</th>\n",
       "      <th>Infect_Prob</th>\n",
       "      <th>Male</th>\n",
       "      <th>Bengaluru</th>\n",
       "      <th>Bhubaneshwar</th>\n",
       "      <th>Chandigarh</th>\n",
       "      <th>Chennai</th>\n",
       "      <th>Delhi</th>\n",
       "      <th>Coronary Heart Disease</th>\n",
       "      <th>Diabetes</th>\n",
       "      <th>Hypertension</th>\n",
       "      <th>None</th>\n",
       "      <th>Car</th>\n",
       "      <th>Public</th>\n",
       "      <th>Walk</th>\n",
       "    </tr>\n",
       "  </thead>\n",
       "  <tbody>\n",
       "    <tr>\n",
       "      <th>0</th>\n",
       "      <td>1</td>\n",
       "      <td>1.0</td>\n",
       "      <td>2</td>\n",
       "      <td>0</td>\n",
       "      <td>68</td>\n",
       "      <td>8</td>\n",
       "      <td>3</td>\n",
       "      <td>0</td>\n",
       "      <td>441.000000</td>\n",
       "      <td>154.0</td>\n",
       "      <td>93.0</td>\n",
       "      <td>233.0</td>\n",
       "      <td>82.0</td>\n",
       "      <td>58.0</td>\n",
       "      <td>27</td>\n",
       "      <td>7</td>\n",
       "      <td>3600000.0</td>\n",
       "      <td>1300000</td>\n",
       "      <td>2.0</td>\n",
       "      <td>49.135010</td>\n",
       "      <td>0</td>\n",
       "      <td>0</td>\n",
       "      <td>1</td>\n",
       "      <td>0</td>\n",
       "      <td>0</td>\n",
       "      <td>0</td>\n",
       "      <td>0</td>\n",
       "      <td>0</td>\n",
       "      <td>1</td>\n",
       "      <td>0</td>\n",
       "      <td>0</td>\n",
       "      <td>1</td>\n",
       "      <td>0</td>\n",
       "    </tr>\n",
       "    <tr>\n",
       "      <th>1</th>\n",
       "      <td>1</td>\n",
       "      <td>2.0</td>\n",
       "      <td>2</td>\n",
       "      <td>0</td>\n",
       "      <td>64</td>\n",
       "      <td>15</td>\n",
       "      <td>0</td>\n",
       "      <td>3</td>\n",
       "      <td>278.806261</td>\n",
       "      <td>121.0</td>\n",
       "      <td>56.0</td>\n",
       "      <td>328.0</td>\n",
       "      <td>89.0</td>\n",
       "      <td>68.0</td>\n",
       "      <td>5</td>\n",
       "      <td>6</td>\n",
       "      <td>1600000.0</td>\n",
       "      <td>400000</td>\n",
       "      <td>1.0</td>\n",
       "      <td>51.147880</td>\n",
       "      <td>0</td>\n",
       "      <td>0</td>\n",
       "      <td>1</td>\n",
       "      <td>0</td>\n",
       "      <td>0</td>\n",
       "      <td>0</td>\n",
       "      <td>0</td>\n",
       "      <td>1</td>\n",
       "      <td>0</td>\n",
       "      <td>0</td>\n",
       "      <td>0</td>\n",
       "      <td>0</td>\n",
       "      <td>1</td>\n",
       "    </tr>\n",
       "    <tr>\n",
       "      <th>2</th>\n",
       "      <td>0</td>\n",
       "      <td>1.0</td>\n",
       "      <td>2</td>\n",
       "      <td>0</td>\n",
       "      <td>19</td>\n",
       "      <td>13</td>\n",
       "      <td>2</td>\n",
       "      <td>1</td>\n",
       "      <td>416.000000</td>\n",
       "      <td>124.0</td>\n",
       "      <td>137.0</td>\n",
       "      <td>213.0</td>\n",
       "      <td>77.0</td>\n",
       "      <td>43.0</td>\n",
       "      <td>40</td>\n",
       "      <td>6</td>\n",
       "      <td>3400000.0</td>\n",
       "      <td>900000</td>\n",
       "      <td>1.0</td>\n",
       "      <td>73.224000</td>\n",
       "      <td>0</td>\n",
       "      <td>0</td>\n",
       "      <td>1</td>\n",
       "      <td>0</td>\n",
       "      <td>0</td>\n",
       "      <td>0</td>\n",
       "      <td>0</td>\n",
       "      <td>0</td>\n",
       "      <td>0</td>\n",
       "      <td>1</td>\n",
       "      <td>0</td>\n",
       "      <td>1</td>\n",
       "      <td>0</td>\n",
       "    </tr>\n",
       "    <tr>\n",
       "      <th>3</th>\n",
       "      <td>1</td>\n",
       "      <td>1.0</td>\n",
       "      <td>2</td>\n",
       "      <td>0</td>\n",
       "      <td>33</td>\n",
       "      <td>9</td>\n",
       "      <td>1</td>\n",
       "      <td>2</td>\n",
       "      <td>410.000000</td>\n",
       "      <td>98.0</td>\n",
       "      <td>167.0</td>\n",
       "      <td>275.0</td>\n",
       "      <td>64.0</td>\n",
       "      <td>60.0</td>\n",
       "      <td>27</td>\n",
       "      <td>7</td>\n",
       "      <td>700000.0</td>\n",
       "      <td>2300000</td>\n",
       "      <td>1.0</td>\n",
       "      <td>48.779225</td>\n",
       "      <td>0</td>\n",
       "      <td>0</td>\n",
       "      <td>1</td>\n",
       "      <td>0</td>\n",
       "      <td>0</td>\n",
       "      <td>0</td>\n",
       "      <td>1</td>\n",
       "      <td>0</td>\n",
       "      <td>0</td>\n",
       "      <td>0</td>\n",
       "      <td>1</td>\n",
       "      <td>0</td>\n",
       "      <td>0</td>\n",
       "    </tr>\n",
       "    <tr>\n",
       "      <th>4</th>\n",
       "      <td>0</td>\n",
       "      <td>2.0</td>\n",
       "      <td>2</td>\n",
       "      <td>0</td>\n",
       "      <td>23</td>\n",
       "      <td>7</td>\n",
       "      <td>3</td>\n",
       "      <td>0</td>\n",
       "      <td>390.000000</td>\n",
       "      <td>21.0</td>\n",
       "      <td>153.0</td>\n",
       "      <td>331.0</td>\n",
       "      <td>71.0</td>\n",
       "      <td>64.0</td>\n",
       "      <td>32</td>\n",
       "      <td>7</td>\n",
       "      <td>3200000.0</td>\n",
       "      <td>1100000</td>\n",
       "      <td>1.0</td>\n",
       "      <td>87.868800</td>\n",
       "      <td>0</td>\n",
       "      <td>0</td>\n",
       "      <td>1</td>\n",
       "      <td>0</td>\n",
       "      <td>0</td>\n",
       "      <td>0</td>\n",
       "      <td>0</td>\n",
       "      <td>1</td>\n",
       "      <td>0</td>\n",
       "      <td>0</td>\n",
       "      <td>1</td>\n",
       "      <td>0</td>\n",
       "      <td>0</td>\n",
       "    </tr>\n",
       "  </tbody>\n",
       "</table>\n",
       "</div>"
      ],
      "text/plain": [
       "   Married  Children  cases/1M  Deaths/1M  Age  Coma score  Pulmonary score  \\\n",
       "0        1       1.0         2          0   68           8                3   \n",
       "1        1       2.0         2          0   64          15                0   \n",
       "2        0       1.0         2          0   19          13                2   \n",
       "3        1       1.0         2          0   33           9                1   \n",
       "4        0       2.0         2          0   23           7                3   \n",
       "\n",
       "   cardiological pressure    Diuresis  Platelets    HBB  d-dimer  Heart rate  \\\n",
       "0                       0  441.000000      154.0   93.0    233.0        82.0   \n",
       "1                       3  278.806261      121.0   56.0    328.0        89.0   \n",
       "2                       1  416.000000      124.0  137.0    213.0        77.0   \n",
       "3                       2  410.000000       98.0  167.0    275.0        64.0   \n",
       "4                       0  390.000000       21.0  153.0    331.0        71.0   \n",
       "\n",
       "   HDL cholesterol  Charlson Index  Blood Glucose  Insurance   salary  \\\n",
       "0             58.0              27              7  3600000.0  1300000   \n",
       "1             68.0               5              6  1600000.0   400000   \n",
       "2             43.0              40              6  3400000.0   900000   \n",
       "3             60.0              27              7   700000.0  2300000   \n",
       "4             64.0              32              7  3200000.0  1100000   \n",
       "\n",
       "   FT/month  Infect_Prob  Male  Bengaluru  Bhubaneshwar  Chandigarh  Chennai  \\\n",
       "0       2.0    49.135010     0          0             1           0        0   \n",
       "1       1.0    51.147880     0          0             1           0        0   \n",
       "2       1.0    73.224000     0          0             1           0        0   \n",
       "3       1.0    48.779225     0          0             1           0        0   \n",
       "4       1.0    87.868800     0          0             1           0        0   \n",
       "\n",
       "   Delhi  Coronary Heart Disease  Diabetes  Hypertension  None  Car  Public  \\\n",
       "0      0                       0         0             1     0    0       1   \n",
       "1      0                       0         1             0     0    0       0   \n",
       "2      0                       0         0             0     1    0       1   \n",
       "3      0                       1         0             0     0    1       0   \n",
       "4      0                       0         1             0     0    1       0   \n",
       "\n",
       "   Walk  \n",
       "0     0  \n",
       "1     1  \n",
       "2     0  \n",
       "3     0  \n",
       "4     0  "
      ]
     },
     "execution_count": 46,
     "metadata": {},
     "output_type": "execute_result"
    }
   ],
   "source": [
    "pd.set_option('display.max_columns', None)\n",
    "data.head()"
   ]
  },
  {
   "cell_type": "code",
   "execution_count": 47,
   "metadata": {},
   "outputs": [],
   "source": [
    "\"\"\" separating features and target \"\"\"\n",
    "\n",
    "X = data.drop(['Infect_Prob'], axis=1)\n",
    "Y = data['Infect_Prob']"
   ]
  },
  {
   "cell_type": "code",
   "execution_count": 48,
   "metadata": {},
   "outputs": [
    {
     "name": "stdout",
     "output_type": "stream",
     "text": [
      "Training Size :  (8035, 32)\n",
      "Testing Size :  (2679, 32)\n"
     ]
    }
   ],
   "source": [
    "from sklearn.model_selection import train_test_split\n",
    "\n",
    "train_X,test_X,train_Y,test_Y = train_test_split(X,Y)\n",
    "\n",
    "print(\"Training Size : \",train_X.shape)\n",
    "print(\"Testing Size : \",test_X.shape)"
   ]
  },
  {
   "cell_type": "markdown",
   "metadata": {},
   "source": [
    "### Regression to predict the probability of Corona Infection"
   ]
  },
  {
   "cell_type": "code",
   "execution_count": 49,
   "metadata": {},
   "outputs": [],
   "source": [
    "from sklearn.ensemble import RandomForestRegressor\n",
    "regressor = RandomForestRegressor()"
   ]
  },
  {
   "cell_type": "code",
   "execution_count": 50,
   "metadata": {},
   "outputs": [
    {
     "data": {
      "text/plain": [
       "RandomForestRegressor(bootstrap=True, ccp_alpha=0.0, criterion='mse',\n",
       "                      max_depth=None, max_features='auto', max_leaf_nodes=None,\n",
       "                      max_samples=None, min_impurity_decrease=0.0,\n",
       "                      min_impurity_split=None, min_samples_leaf=1,\n",
       "                      min_samples_split=2, min_weight_fraction_leaf=0.0,\n",
       "                      n_estimators=100, n_jobs=None, oob_score=False,\n",
       "                      random_state=None, verbose=0, warm_start=False)"
      ]
     },
     "execution_count": 50,
     "metadata": {},
     "output_type": "execute_result"
    }
   ],
   "source": [
    "regressor.fit(train_X,train_Y)"
   ]
  },
  {
   "cell_type": "markdown",
   "metadata": {},
   "source": [
    "### Performance evaluation"
   ]
  },
  {
   "cell_type": "code",
   "execution_count": 51,
   "metadata": {},
   "outputs": [
    {
     "name": "stdout",
     "output_type": "stream",
     "text": [
      "Score =  0.2867403287532774\n",
      "Root Mean Square Error =  9.403950248999122\n"
     ]
    }
   ],
   "source": [
    "import math\n",
    "def rmse(x,y): \n",
    "    return math.sqrt(((x-y)**2).mean())\n",
    "\n",
    "y_pred = regressor.predict(test_X)\n",
    "print(\"Score = \", regressor.score(test_X, test_Y))\n",
    "print(\"Root Mean Square Error = \",rmse(y_pred,test_Y))"
   ]
  },
  {
   "cell_type": "code",
   "execution_count": 52,
   "metadata": {
    "scrolled": false
   },
   "outputs": [
    {
     "name": "stdout",
     "output_type": "stream",
     "text": [
      "Feature ranking:\n",
      "1. feature 4 (0.277134)\n",
      "2. feature 1 (0.061724)\n",
      "3. feature 11 (0.059568)\n",
      "4. feature 10 (0.058922)\n",
      "5. feature 9 (0.057015)\n",
      "6. feature 8 (0.052854)\n",
      "7. feature 12 (0.048146)\n",
      "8. feature 14 (0.047270)\n",
      "9. feature 13 (0.046474)\n",
      "10. feature 17 (0.043380)\n",
      "11. feature 16 (0.042076)\n",
      "12. feature 5 (0.034389)\n",
      "13. feature 2 (0.027842)\n",
      "14. feature 3 (0.020593)\n",
      "15. feature 15 (0.017887)\n",
      "16. feature 18 (0.012687)\n",
      "17. feature 6 (0.010027)\n",
      "18. feature 7 (0.009135)\n",
      "19. feature 19 (0.007243)\n",
      "20. feature 27 (0.006438)\n",
      "21. feature 31 (0.006139)\n",
      "22. feature 26 (0.006110)\n",
      "23. feature 25 (0.005776)\n",
      "24. feature 24 (0.005759)\n",
      "25. feature 30 (0.005443)\n",
      "26. feature 21 (0.005390)\n",
      "27. feature 29 (0.005300)\n",
      "28. feature 22 (0.005257)\n",
      "29. feature 20 (0.004825)\n",
      "30. feature 28 (0.004756)\n",
      "31. feature 23 (0.002947)\n",
      "32. feature 0 (0.001493)\n"
     ]
    },
    {
     "data": {
      "text/plain": [
       "(-1.0, 32.0)"
      ]
     },
     "execution_count": 52,
     "metadata": {},
     "output_type": "execute_result"
    },
    {
     "data": {
      "image/png": "[encoded data removed]",
      "text/plain": [
       "<Figure size 1080x720 with 1 Axes>"
      ]
     },
     "metadata": {},
     "output_type": "display_data"
    }
   ],
   "source": [
    "features = train_X.columns\n",
    "importances = regressor.feature_importances_\n",
    "std = np.std([tree.feature_importances_ for tree in regressor.estimators_],\n",
    "             axis=0)\n",
    "indices = np.argsort(importances)[::-1]\n",
    "\n",
    "print(\"Feature ranking:\")\n",
    "\n",
    "for f in range(train_X.shape[1]):\n",
    "    print(\"%d. feature %d (%f)\" % (f + 1, indices[f], importances[indices[f]]))\n",
    "\n",
    "# Plot the feature importances of the forest\n",
    "plt.figure(figsize=(15,10))\n",
    "plt.title(\"Feature importances\")\n",
    "plt.bar(train_X.columns, importances[indices], color=\"r\", yerr=std[indices], align=\"center\")\n",
    "plt.xticks(range(train_X.shape[1]), features[indices], rotation = 'vertical')\n",
    "plt.xlim([-1, train_X.shape[1]])"
   ]
  }
 ],
 "metadata": {
  "kernelspec": {
   "display_name": "Python 3",
   "language": "python",
   "name": "python3"
  },
  "language_info": {
   "codemirror_mode": {
    "name": "ipython",
    "version": 3
   },
   "file_extension": ".py",
   "mimetype": "text/x-python",
   "name": "python",
   "nbconvert_exporter": "python",
   "pygments_lexer": "ipython3",
   "version": "3.8.1"
  }
 },
 "nbformat": 4,
 "nbformat_minor": 4
}
